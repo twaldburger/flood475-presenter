{
  "cells": [
    {
      "cell_type": "markdown",
      "metadata": {
        "id": "view-in-github",
        "colab_type": "text"
      },
      "source": [
        "<a href=\"https://colab.research.google.com/github/twaldburger/flood475-presenter/blob/master/geo475_flood_modelling_in_gee.ipynb\" target=\"_parent\"><img src=\"https://colab.research.google.com/assets/colab-badge.svg\" alt=\"Open In Colab\"/></a>"
      ]
    },
    {
      "cell_type": "code",
      "source": [
        "import ee\n",
        "import geemap\n",
        "import geemap.colormaps as cm\n",
        "import time\n",
        "\n",
        "## set some parameters, please update if required\n",
        "PROJECT_ID = 'ee-timwaldburger-flood475' # your GEE project id\n",
        "SAMPLE_SIZE = 100 # number of training locations per flood event and class\n",
        "\n",
        "## connect to GEE\n",
        "try:\n",
        "    ee.Initialize()\n",
        "except ee.EEException:\n",
        "    ee.Authenticate()\n",
        "    ee.Initialize(project=PROJECT_ID)"
      ],
      "metadata": {
        "id": "munACIb96Vfd",
        "outputId": "891bd7da-c028-4013-9f09-925b7669a3bc",
        "colab": {
          "base_uri": "https://localhost:8080/",
          "height": 34
        }
      },
      "execution_count": 1,
      "outputs": [
        {
          "output_type": "stream",
          "name": "stderr",
          "text": [
            "*** Earth Engine *** Share your feedback by taking our Annual Developer Satisfaction Survey: https://google.qualtrics.com/jfe/form/SV_0JLhFqfSY1uiEaW?source=Init\n"
          ]
        }
      ]
    },
    {
      "cell_type": "markdown",
      "source": [
        "---\n",
        "# Data exploration and visualization"
      ],
      "metadata": {
        "id": "gl1rsslKSJ7v"
      }
    },
    {
      "cell_type": "code",
      "source": [
        "## define the datasets we want to use for our model\n",
        "globalFlood = ee.ImageCollection(\"GLOBAL_FLOOD_DB/MODIS_EVENTS/V1\")\n",
        "dem = ee.ImageCollection('COPERNICUS/DEM/GLO30') \\\n",
        "        .select('DEM')\n",
        "landcover = ee.ImageCollection('ESA/WorldCover/v200')\n",
        "hydro = ee.Image('MERIT/Hydro/v1_0_1')\n",
        "prec = ee.ImageCollection('ECMWF/ERA5_LAND/HOURLY') \\\n",
        "         .select('total_precipitation')\n",
        "runoffPotential = ee.Image('projects/sat-io/open-datasets/HiHydroSoilv2_0/Hydrologic_Soil_Group_250m') \\\n",
        "                    .remap([1, 2, 3, 4, 14, 24, 34], [1, 2, 3, 4, 1, 3, 4])"
      ],
      "metadata": {
        "id": "pBHxsikA6Vbh",
        "outputId": "c57884d1-d4ed-4b58-92f3-301bff1be7f8",
        "colab": {
          "base_uri": "https://localhost:8080/",
          "height": 17
        }
      },
      "execution_count": 2,
      "outputs": [
        {
          "output_type": "display_data",
          "data": {
            "text/plain": [
              "<IPython.core.display.HTML object>"
            ],
            "text/html": [
              "\n",
              "            <style>\n",
              "                .geemap-dark {\n",
              "                    --jp-widgets-color: white;\n",
              "                    --jp-widgets-label-color: white;\n",
              "                    --jp-ui-font-color1: white;\n",
              "                    --jp-layout-color2: #454545;\n",
              "                    background-color: #383838;\n",
              "                }\n",
              "\n",
              "                .geemap-dark .jupyter-button {\n",
              "                    --jp-layout-color3: #383838;\n",
              "                }\n",
              "\n",
              "                .geemap-colab {\n",
              "                    background-color: var(--colab-primary-surface-color, white);\n",
              "                }\n",
              "\n",
              "                .geemap-colab .jupyter-button {\n",
              "                    --jp-layout-color3: var(--colab-primary-surface-color, white);\n",
              "                }\n",
              "            </style>\n",
              "            "
            ]
          },
          "metadata": {}
        }
      ]
    },
    {
      "cell_type": "markdown",
      "source": [
        "> **Task:** Get an overview on the datasets we use. What data do they provide? Who produced them? What is their spatial and temporal resolution? A good starting point is the [Earth Engine Data Catalog](https://developers.google.com/earth-engine/datasets).  \n",
        "**@presenter:** Ask for people to explain the datasets. Ask them to mention special characteristics (e.g. very low resolution) and explain where they see problems that should be kept in mind."
      ],
      "metadata": {
        "id": "xMhp6-quctsy"
      }
    },
    {
      "cell_type": "code",
      "source": [
        "## subtract the permanent water bodies from the flooded areas\n",
        "def subtractPermanentWater(img):\n",
        "  flood = img.select('flooded')\n",
        "  perm = img.select('jrc_perm_water')\n",
        "  return flood.multiply(perm.eq(0))\n",
        "flood = globalFlood.map(subtractPermanentWater).sum()\n",
        "# flood_global_max = flood.reduceRegion(geometry=globalFlood.geometry(), reducer=ee.Reducer.max()).getInfo()['flooded']\n",
        "\n",
        "## color flooded areas in blue\n",
        "flood_vis = {'min':0, 'max':10, 'palette':cm.palettes.Blues}\n",
        "\n",
        "## create and display an interactive map\n",
        "Map = geemap.Map(basemap='CartoDB.DarkMatter')\n",
        "Map.add_basemap('CartoDB.Positron', show=False)\n",
        "Map.add_layer(flood.selfMask(), flood_vis, 'Historic floods')\n",
        "Map.add_colorbar(flood_vis, label=\"Number of floods\", layer_name=\"Historic floods\", font_size=9)\n",
        "Map"
      ],
      "metadata": {
        "id": "TmwnW78Of3Tq",
        "outputId": "8f7ab44c-aec8-4105-f1b3-3c96e5464fb7",
        "colab": {
          "base_uri": "https://localhost:8080/",
          "height": 621,
          "referenced_widgets": [
            "a55f030dd95a4031817c85a73612b0ea",
            "a98d106b4cb847c38b430c672b29629b",
            "82cb6c4d25b1441d928c7ba89fa29dd8",
            "e052e113b6054a4287b4d59f9b2e4110",
            "84b02da0d81c449c8c66b583848d2afe",
            "72be7132a4ba4ef3b59f26557fb2ed47",
            "e4f768f5eddc4e8da1fa22e00b27ede7",
            "5501301467604bfcbb5a55024fdf631f",
            "ff4d6850817e4580b855ce855b643b16",
            "df23920f8ba947c6bad77f3ed03af6fb",
            "14662f9d48b548329bef1a9891fc4998",
            "2a3d04c0a2f34fd7b13e0eff17100c99",
            "f64d111de54449ce8bdd9720ddac8473",
            "e9c7c4b401c94c5488e016a550fbba74",
            "69937babc0b74b24979762cabdee7197",
            "c485ff750f95458eb23cf1283084d2e5",
            "71e3b6a3a9ac4564a616923c553941f8",
            "852aad6ce7a04477932d05b9994d0b31",
            "780f9b7174254888bc00b6ba208f7779",
            "a164668b83d54a87a9769ea9e524d6fb",
            "671743b931dc4606b5d7522ef77f86cd",
            "3779a8d418c24c7a8c97a1910f7f315e",
            "39033dcbd1604749ba610da60fccb0b6",
            "287272bd49524766ada89994bdb80905",
            "b06fb010a3f041fca31b5cc09bb9703f",
            "1f349fe6e45d4c9596fec3bd16a6674f",
            "37b389772610416fb8a8b51e6a3463ed",
            "d00f3bc877e248c9bff2645dd43aa386",
            "690cb7a490a9450f8d6ce97b139c97fc",
            "a667197aa6d747d5b86af38b9ddf99a1",
            "8e2e4f889da94fffab8aa38962c28001",
            "a021794ac97b4fa585bc88e836d43f53",
            "74d69d1e97ce40c89f9144705f191de9",
            "0cdea046074b49f9b3ceac17e960073b",
            "4b7cbb20391a406383297b5f930a9cfc",
            "f308f742de7044569ce333afdb0d64d0",
            "418fef591c1d4661b4233c569d81f104",
            "bbfaf21d970b4b4aa32e0f66ae9b013b",
            "790aefdb17aa41eb9fa50e0a9ad49192",
            "9d73cad3bd19487dad29e88a628fa641",
            "a4fc1b8a8e8041e28b610c4748d67889",
            "88a6f69d10a344c19866bee289aa6665",
            "22c73a0ae24944e89736c82066643447",
            "547ab25c947146c6be295df722ef5bec",
            "42ccc8b93a474307983a6290edbf7120",
            "0cc96b7152564716822e3c7744c6b902",
            "82c73afed1ae45abbff56625ed494051",
            "e9df81c60e0a4e189aa400f13a161c58",
            "131e736a531e4239addf1f49819ed598",
            "700b3fd623894c829944b0463ba0924f",
            "0d3a4adbf8184c48b6b9ad693d3fd780",
            "48c037d8c6514e37bcad4d06f5762276",
            "f98e72a57b6a49229eaa030772b2ab39",
            "bcf9910bafce4df69afd2093231f9494",
            "38dbbdc03ca4490d8630ceee2f08683d",
            "a49aee56a36b40d085122452b8a9a8cc",
            "e05317b02b634b15992e91ec1c8f4fb3",
            "4e26c50659cc419eaeb36a45266ca49e",
            "410ecce204034c53a77ef6687c15822f",
            "fab85c13f45846d09b48a116378a53ca",
            "b6233c7ab07a4f989eaf8ce9228f86f0",
            "9469df044d60422ebc675caa335d060c",
            "fd8b3910310f42608c159c84ad74cd1e",
            "9feb559f25ed4fdc822a688c4e9110ae",
            "9e88e6479ffe4f9ca4673381bd32fa17",
            "c6c7d7d6d0fd46eaac504486c35284cf",
            "189f5a0e913b4efc804b0f8971d3eefe",
            "7c726fff8777423f94c00ee1d79e58cb",
            "76d31bdee74b4fcebbd7bc0de0115660",
            "9ce10b3885d24a73a2ece4cb3fb9d30a",
            "b12d0c95b52b4bf79c8408b98199d060",
            "52f11e87fe9c49308e2256237c7c6098",
            "024df35e629742a9ae5209e39939c34d",
            "ffdfbacf015d4e3898bf28287e0d5e34",
            "00f723b0f5024092813171a4a18c3b9a",
            "8fb37e2f06d8468eac94e18000c4c1e1",
            "ece8742a15c648408076bda66a4ac273",
            "d008fa31a0ce48e4ab32583ac47d117a",
            "0372e4d766bd414793a18520de60782e",
            "59a5c23cf5ab46b391d9d9d6f7c1827c",
            "0f8241b9bfc7408795c27801a57fd616",
            "17e42b743e084b2da52e7c21999e38df",
            "c56a823a7aea4cac8dfe152656673210",
            "19f083d2836944a5a5a621eb34d82208",
            "96b265be96624822aaac7f46055dcbf8",
            "f809e922400f41f6a502ed8d6f29d793",
            "0bb67915b3154036abf474f1bf781a1b",
            "5237e801782040ceb7440689a0c9a124",
            "73e54a9cf859402c8855234d01016ae5",
            "b15830adf8c04314b37b8ae08c1354a9",
            "ccc9d3108c1f4b8298d19ad3f96e4378",
            "fdb8240f893e4e82b353b8f2a6a6a2b2",
            "9a7433a017d3442f8d709564e1b735fa"
          ]
        }
      },
      "execution_count": 14,
      "outputs": [
        {
          "output_type": "display_data",
          "data": {
            "text/plain": [
              "<IPython.core.display.HTML object>"
            ],
            "text/html": [
              "\n",
              "            <style>\n",
              "                .geemap-dark {\n",
              "                    --jp-widgets-color: white;\n",
              "                    --jp-widgets-label-color: white;\n",
              "                    --jp-ui-font-color1: white;\n",
              "                    --jp-layout-color2: #454545;\n",
              "                    background-color: #383838;\n",
              "                }\n",
              "\n",
              "                .geemap-dark .jupyter-button {\n",
              "                    --jp-layout-color3: #383838;\n",
              "                }\n",
              "\n",
              "                .geemap-colab {\n",
              "                    background-color: var(--colab-primary-surface-color, white);\n",
              "                }\n",
              "\n",
              "                .geemap-colab .jupyter-button {\n",
              "                    --jp-layout-color3: var(--colab-primary-surface-color, white);\n",
              "                }\n",
              "            </style>\n",
              "            "
            ]
          },
          "metadata": {}
        },
        {
          "output_type": "display_data",
          "data": {
            "text/plain": [
              "Map(center=[0, 0], controls=(WidgetControl(options=['position', 'transparent_bg'], widget=SearchDataGUI(childr…"
            ],
            "application/vnd.jupyter.widget-view+json": {
              "version_major": 2,
              "version_minor": 0,
              "model_id": "a55f030dd95a4031817c85a73612b0ea"
            }
          },
          "metadata": {
            "application/vnd.jupyter.widget-view+json": {
              "colab": {
                "custom_widget_manager": {
                  "url": "https://ssl.gstatic.com/colaboratory-static/widgets/colab-cdn-widget-manager/2b70e893a8ba7c0f/manager.min.js"
                }
              }
            }
          }
        }
      ]
    },
    {
      "cell_type": "markdown",
      "source": [
        "> **Task:** Add the input datasets to the map as individual layers. You can find the geemap documentation [here](https://geemap.org/).  \n",
        "**@presenter:** Ask if someone wants to share their map and explain what functions they used to create it."
      ],
      "metadata": {
        "id": "BUj9DEb7fU4j"
      }
    },
    {
      "cell_type": "code",
      "source": [
        "#TODO: add layers to map"
      ],
      "metadata": {
        "id": "cWIfV7paY4Ds"
      },
      "execution_count": null,
      "outputs": []
    },
    {
      "cell_type": "markdown",
      "source": [
        "---\n",
        "# Training dataset\n",
        "\n"
      ],
      "metadata": {
        "id": "Yv7ybAUMSDmx"
      }
    },
    {
      "cell_type": "code",
      "source": [
        "def pointQuery(fc:ee.FeatureCollection, img:ee.Image, prop:str) -> ee.FeatureCollection:\n",
        "  \"\"\"\n",
        "  Returns pixel values at locations using a feature collection and an image.\n",
        "\n",
        "  Parameters\n",
        "  ----------\n",
        "  fc: : ee.FeatureCollection\n",
        "    Collection of points at which to query the image.\n",
        "  img : ee.Image\n",
        "    The image to query.\n",
        "  prop : str\n",
        "    Name of new property to hold the query results.\n",
        "\n",
        "  Returns\n",
        "  -------\n",
        "  ee.FeatureCollection\n",
        "    Input FeatureCollection with lookup values added as new property.\n",
        "  \"\"\"\n",
        "  fc = img.reduceRegions(collection=fc, reducer=ee.Reducer.first())\n",
        "  return fc.map(lambda feat: feat.set(prop, feat.get('first')))\n",
        "\n",
        "\n",
        "def removeProperty(fc:ee.FeatureCollection, prop:str) -> ee.FeatureCollection:\n",
        "  \"\"\"\n",
        "  Removes a property by name from a feature collection.\n",
        "\n",
        "  Parameters\n",
        "  ----------\n",
        "  fc : ee.FeatureCollection\n",
        "    Collection from which to remove the property.\n",
        "  prop : str\n",
        "    Property to remove.\n",
        "\n",
        "  Returns\n",
        "  -------\n",
        "  ee.FeatureCollection\n",
        "    Input collection without the removed property.\n",
        "  \"\"\"\n",
        "  selectProperties = fc.propertyNames().filter(ee.Filter.neq('item', prop))\n",
        "  return fc.select(selectProperties)\n",
        "\n",
        "\n",
        "def createSample(img:ee.Image) -> ee.FeatureCollection:\n",
        "  \"\"\"\n",
        "  Samples training dataset for a single flood image.\n",
        "\n",
        "  Parameters\n",
        "  ----------\n",
        "  img : ee.Image\n",
        "    Input image.\n",
        "\n",
        "  Returns\n",
        "  -------\n",
        "  ee.FeatureCollection\n",
        "    Sampled and enriched training data.\n",
        "  \"\"\"\n",
        "\n",
        "  ## subtract permanent water bodies from flooded areas\n",
        "  permanent = img.select('jrc_perm_water')\n",
        "  water = img.select('flooded')\n",
        "  flooded = water.subtract(permanent).gt(0)\n",
        "\n",
        "  ## get the total and maximum precipitation over 14 days prior to the event end date\n",
        "  end = img.getNumber('system:time_end')\n",
        "  start = end.subtract(1209600000) # timestamp in milliseconds: 60 * 60 * 24 * 14 * 1000\n",
        "  precSum = prec.filter(ee.Filter.date(start, end)).sum()\n",
        "  precMax = prec.filter(ee.Filter.date(start, end)).max()\n",
        "\n",
        "  ## sample equal number of flooded and non-flooded points\n",
        "  sample = flooded.stratifiedSample(numPoints=SAMPLE_SIZE, classBand='flooded', geometries=True)\n",
        "\n",
        "  ## add image id in case we want to join the event metadata later\n",
        "  sample = sample.map(lambda x: x.set('eventId', img.get('system:index')))\n",
        "\n",
        "  ## enrich sample by running point lookups on multiple datasets\n",
        "  sample = pointQuery(sample, dem.mosaic(), 'demElevationAbs')\n",
        "  sample = pointQuery(sample, ee.Terrain.aspect(dem.mosaic()), 'demAspect')\n",
        "  sample = pointQuery(sample, ee.Terrain.slope(dem.mosaic()), 'demSlope')\n",
        "  sample = pointQuery(sample, landcover.first(), 'landcover')\n",
        "  sample = pointQuery(sample, hydro.select('upa'), 'upa')\n",
        "  sample = pointQuery(sample, runoffPotential, 'runoffPot')\n",
        "  sample = pointQuery(sample, precSum, 'precSum')\n",
        "  sample = pointQuery(sample, precMax, 'precMax')\n",
        "\n",
        "  ## remove first-property\n",
        "  sample = sample.map(lambda feat: removeProperty(feat, 'first'))\n",
        "\n",
        "  ## normalize elevation\n",
        "  elevationRange = dem.mosaic().reduceRegion(geometry=img.geometry(), reducer=ee.Reducer.minMax())\n",
        "  min = ee.Number(elevationRange.get('DEM_min'))\n",
        "  max = ee.Number(elevationRange.get('DEM_max'))\n",
        "  def normalizeElevation(feat:ee.Feature) -> ee.Feature:\n",
        "    return feat.set('demElevationNorm', (ee.Number(feat.get('demElevationAbs')).subtract(min)).divide(max.subtract(min)))\n",
        "  sample = sample.filter(ee.Filter.notNull(ee.List(['demElevationAbs']))).map(normalizeElevation)\n",
        "\n",
        "  return sample"
      ],
      "metadata": {
        "id": "U7fUtqOy6VTu"
      },
      "execution_count": null,
      "outputs": []
    },
    {
      "cell_type": "markdown",
      "source": [
        "> **Task:** Try to understand the code in the cell above. Why are we using *ee.Image.stratifiedSample* in line 70 instead of using the much faster *ee.Image.Sample* method? Why are we using the complicated GEE methods in lines 65-76 and 90-94 instead of simply using plain Python? What does *ee.FeatureCollection.map* do? Why do we not just write a simple for-loop instead? Why do we normalize the elevation values?  \n",
        "**@presenter:** Ask where people looked up the GEE functions. Show the documentation section in the [GEE Code editor](https://code.earthengine.google.com/) if not mentioned.  \n",
        "**@presenter:**\n",
        "- *stratifiedSample* samples the same number of locations within each class. Since our flood footprints mostly contain non-flooded pixels, using *stratifiedSample* is a convenient way to avoid oversampling non-flooded pixels. However, there might also be a risk of *stratifiedSample* oversampling certain flooded areas if the flood footprint is very small.\n",
        "- We want to execute all the code in GEE itself so we can benefit from its optimization and parallelisation. If we would use plain Python, we would need to fetch the info from GEE server into our Colab Runtime which would make the whole process extremely inefficient.\n",
        "- *map* iterates over a feature collection and applies an algorithm to each feature. This process is run in parallel on the GEE server. Using a Python for-loop instead would loose the parallel execution and also create all the problems mentioned in the last question.\n",
        "- We use a global flood dataset, but look at the individual events independently. We do not want to create a bias towards the general elevation of the region where an event took place and are therefore normalizing the elevation within each image (and therefore for each event)."
      ],
      "metadata": {
        "id": "qL-_naeIdr1J"
      }
    },
    {
      "cell_type": "code",
      "source": [
        "## create enriched sample and store the result as an asset\n",
        "properties = ['demAspect', 'demElevationAbs', 'demElevationNorm', 'demSlope', 'eventId', 'flooded', 'landcover', 'precMax', 'precSum', 'runoffPot', 'upa', '.geo']\n",
        "sample = globalFlood.map(createSample).flatten()\n",
        "sample = sample.filter(ee.Filter.notNull(properties)).distinct(properties)\n",
        "task = ee.batch.Export.table.toAsset(sample, description='flood475-sampling', assetId=f\"projects/{PROJECT_ID}/assets/flood475_sample_2\")"
      ],
      "metadata": {
        "id": "W6ErNPvdBZm5"
      },
      "execution_count": null,
      "outputs": []
    },
    {
      "cell_type": "code",
      "source": [
        "## run and monitor the task\n",
        "task.start()\n",
        "while task.active():\n",
        "  ts = task.status()\n",
        "  if ts['start_timestamp_ms']>0:\n",
        "    s = round((ts['update_timestamp_ms']-ts['start_timestamp_ms'])/1000)\n",
        "  else:\n",
        "    s = round((ts['update_timestamp_ms']-ts['creation_timestamp_ms'])/1000)\n",
        "  print(f\"task '{ts['description']}' is {ts['state']} for {s} seconds\")\n",
        "  time.sleep(60)\n",
        "task.status()"
      ],
      "metadata": {
        "id": "s6I0aPqCXBIr"
      },
      "execution_count": null,
      "outputs": []
    },
    {
      "cell_type": "markdown",
      "source": [
        "> **Task:** There are multiple places (outside of Google Colab) where we can also monitor our tasks. Can you find them?  \n",
        "**@presenter:** Show the 3 places:\n",
        "- [GEE Code editor](https://code.earthengine.google.com/)\n",
        "- [Task Manager](https://code.earthengine.google.com/tasks)\n",
        "- [Tasks Page in the Cloud Console](https://console.cloud.google.com/earth-engine/tasks?project=ee-timwaldburger-flood475)"
      ],
      "metadata": {
        "id": "jvoojztSaYDJ"
      }
    },
    {
      "cell_type": "markdown",
      "source": [
        "> **Task:** Add the sampled data points to your map from above."
      ],
      "metadata": {
        "id": "mQtCch3jVxbF"
      }
    },
    {
      "cell_type": "code",
      "source": [
        "#TODO: add data points to map"
      ],
      "metadata": {
        "id": "IGikkZOFV98p"
      },
      "execution_count": null,
      "outputs": []
    },
    {
      "cell_type": "markdown",
      "metadata": {
        "id": "87ySFUlm0bQj"
      },
      "source": [
        "# Creating a training dataset\n",
        "In this first notebook, we create a set of training locations which we can then use to train a flood prediction model.\n",
        "\n",
        "Please go through the explanations and code step-by-step and run each code cell.\n",
        "> **Task:** Tasks and questions are marked like this. Please try to answer them before proceeding with the next cell."
      ]
    },
    {
      "cell_type": "markdown",
      "metadata": {
        "id": "6MH1oy-GBxDu"
      },
      "source": [
        "---\n",
        "## Preparations\n",
        "In this first section, we handle all imports and set some variables. We also initialize the connection to GEE."
      ]
    },
    {
      "cell_type": "markdown",
      "metadata": {
        "id": "0R9h73AZB23r"
      },
      "source": [
        "### Import dependencies\n",
        "All dependencies required for this notebook are pre-installed in Google Colab. We can therefore just import them."
      ]
    },
    {
      "cell_type": "code",
      "execution_count": null,
      "metadata": {
        "id": "kx4oC-Q069m5"
      },
      "outputs": [],
      "source": [
        "import ee\n",
        "import geemap\n",
        "import geemap.colormaps as cm\n",
        "import google\n",
        "import pandas as pd\n",
        "from datetime import datetime, timedelta\n",
        "from pathlib import Path\n",
        "from tqdm import tqdm\n",
        "from time import sleep"
      ]
    },
    {
      "cell_type": "markdown",
      "metadata": {
        "id": "jxK350kN4lYj"
      },
      "source": [
        "### Define global variables\n",
        "The cell below defines some global variables. You are only required to set the project ID but can change the other variables if you want.\n",
        "- `PROJECT_ID` This is you Gee project ID. If you do not remember it, you can go to the [GEE code editor](https://code.earthengine.google.com/) and list your project by clicking on your user symbol in the top-right corner.\n",
        "- `SAMPLE_SIZE` This is the number of training locations we want to create. To keep computation times small, I suggest that you choose a sample size below 5000.\n",
        "- `TRAINING_DATA` This is the file name under which to save the training locations. Use different file names if you generate different training data. It is not required to add a file type.\n",
        "- `SEED` This is the seed value used for random sampling. Setting this here makes our sampling reproducible."
      ]
    },
    {
      "cell_type": "code",
      "execution_count": null,
      "metadata": {
        "id": "ZWMQwXpI4kxw"
      },
      "outputs": [],
      "source": [
        "PROJECT_ID = ''    # @param {type: 'string'}\n",
        "SAMPLE_SIZE = 3000 # @param {type: 'integer'}\n",
        "TRAINING_DATA = 'roi_sample' # @param {type: 'string'}\n",
        "SEED = 123         # @param {type: 'integer'}"
      ]
    },
    {
      "cell_type": "markdown",
      "metadata": {
        "id": "yg5bGjW7HW-H"
      },
      "source": [
        "### Mount Google Drive\n",
        "We will use Google Drive to store our preliminary results from GEE because we can mount it to Google Colab and therefore easily write and read data without the need of manually down- and uploading datasets.\n",
        "\n",
        "**Important!** The cell below mounts your Google Drive to Google Colab and creates a new folder (named _geo475_ee_). This folder will be removed again at the end of the exercise (you can also keep it if you want, of course). **To make sure that we are not deleting any of your personal data, do not change the `data_dir`-variable in the cell below unless you know what you are doing.**"
      ]
    },
    {
      "cell_type": "code",
      "execution_count": null,
      "metadata": {
        "id": "t6KMJWoGHXZb"
      },
      "outputs": [],
      "source": [
        "data_dir = Path('/content/gdrive/MyDrive/geo475_ee')\n",
        "\n",
        "## mount Google Drive to Colab\n",
        "if not data_dir.parent.exists():\n",
        "  google.colab.drive.mount('/content/gdrive')\n",
        "\n",
        "## create output directory for the project\n",
        "if not data_dir.exists():\n",
        "  data_dir.mkdir()"
      ]
    },
    {
      "cell_type": "markdown",
      "metadata": {
        "id": "YiHrA3i04P7j"
      },
      "source": [
        "### Initialize Google Earth Engine\n",
        "In the cell below, we connect to GEE using the same apporoach shown in [01_Connecting_to_GEE.ipynb](https://github.com/twaldburger/flood475/blob/master/01_Connecting_to_GEE.ipynb)."
      ]
    },
    {
      "cell_type": "code",
      "execution_count": null,
      "metadata": {
        "id": "rUga2F8h4eAg"
      },
      "outputs": [],
      "source": [
        "google.colab.auth.authenticate_user()\n",
        "credentials, project_id = google.auth.default()\n",
        "ee.Initialize(credentials, project=PROJECT_ID)\n",
        "print(ee.String('Nice! That worked! :-)').getInfo())"
      ]
    },
    {
      "cell_type": "markdown",
      "metadata": {
        "id": "pXMLzsQtCYgM"
      },
      "source": [
        "---\n",
        "## Data\n",
        "In this section, we have a quick look at the datasets we will use to generate our training dataset. We use only data from the GEE Catalog for which you can find the links below:\n",
        "\n",
        "- [Global Flood Database v1 (2000-2018)](https://developers.google.com/earth-engine/datasets/catalog/GLOBAL_FLOOD_DB_MODIS_EVENTS_V1#description)\n",
        "- [CHIRPS Daily: Climate Hazards Group InfraRed Precipitation With Station Data (Version 2.0 Final)](https://developers.google.com/earth-engine/datasets/catalog/UCSB-CHG_CHIRPS_DAILY#description)\n",
        "- [Copernicus DEM GLO-30: Global 30m Digital Elevation Model](https://developers.google.com/earth-engine/datasets/catalog/COPERNICUS_DEM_GLO30#description)\n",
        "- [MERIT Hydro: Global Hydrography Datasets](https://developers.google.com/earth-engine/datasets/catalog/MERIT_Hydro_v1_0_1#bands)\n",
        "- [ESA WorldCover 10m v200](https://developers.google.com/earth-engine/datasets/catalog/ESA_WorldCover_v200?hl=en#description)\n",
        "\n",
        "> **Task:** Familiarize yourself by following the links to the GEE Catalog. Try to answer the following questions:\n",
        "1. Which datasets are raster datasets? Which are vector?\n",
        "2. How do the data differ in (spatial) resolution?\n",
        "3. How many flood events does the [Global Flood Database v1 (2000-2018)](https://developers.google.com/earth-engine/datasets/catalog/GLOBAL_FLOOD_DB_MODIS_EVENTS_V1#description) contain?\n",
        "4. How many bands does the Digital Elevation Model (DEM) have?\n",
        "5. How is the precipitation dataset different from the others?\n",
        "6. How do these data limit us in training a flood prediction model? Try to look at the temporat and spatial extent covered by the different datasets. Hint: You can visualize a single day of CHIRPS precipitation data by running the next two code cells.\n",
        "\n",
        "With the code below, we import the relevant datasets from GEE. We are not reading the actual data into our memory (it would never fit) but we reference the datasets as a variables so we can start using it.\n",
        "\n",
        "\n"
      ]
    },
    {
      "cell_type": "markdown",
      "metadata": {
        "id": "a6ESDkffKss6"
      },
      "source": [
        "### Import from GEE"
      ]
    },
    {
      "cell_type": "code",
      "execution_count": null,
      "metadata": {
        "id": "x8PKn32K8Oi1"
      },
      "outputs": [],
      "source": [
        "flood_ds = ee.ImageCollection('GLOBAL_FLOOD_DB/MODIS_EVENTS/V1')\n",
        "elevation_ds = ee.ImageCollection('COPERNICUS/DEM/GLO30')\n",
        "landcover_ds = ee.ImageCollection(\"ESA/WorldCover/v200\")\n",
        "precipitation_ds = ee.ImageCollection('UCSB-CHG/CHIRPS/DAILY')\n",
        "flowaccumulation = ee.Image(\"MERIT/Hydro/v1_0_1\").select('upa')"
      ]
    },
    {
      "cell_type": "markdown",
      "metadata": {
        "id": "WqX-slZ4FmiH"
      },
      "source": [
        "### Explore interactively\n",
        "This code generates an interactive map of the precipitation data we are using. Note that although the dataset contains daily precipitation of over 30 years, we are only visualizing a single day.\n",
        "> **Task:** Try to visualize other datasets as well. Hint: Many datasets define the code for a simple visualsation in the catalog."
      ]
    },
    {
      "cell_type": "code",
      "execution_count": null,
      "metadata": {
        "id": "IMAeqJXQ8FCr"
      },
      "outputs": [],
      "source": [
        "## add a temporal filter to the CHIRPS dataset and select the precipitation layer\n",
        "precipitation = precipitation_ds.filterDate('2018-05-01').select('precipitation')\n",
        "\n",
        "## define a color palette for nicer visualisation\n",
        "precipitation_vis = {\n",
        "    'min': 1,\n",
        "    'max': 17,\n",
        "    'palette': ['001137', '0aab1e', 'e7eb05', 'ff4a2d', 'e90000'],\n",
        "}\n",
        "\n",
        "## create and display an interactive map\n",
        "Map = geemap.Map()\n",
        "Map.add_layer(precipitation, precipitation_vis, 'Precipitation')\n",
        "Map"
      ]
    },
    {
      "cell_type": "markdown",
      "metadata": {
        "id": "MoI4EKW1Pmbh"
      },
      "source": [
        "---\n",
        "## Defining the training locations\n",
        "In this section, we sample the locations we want to use for training our model."
      ]
    },
    {
      "cell_type": "markdown",
      "metadata": {
        "id": "AQEyXWRuK8Ue"
      },
      "source": [
        "### Defining the region of interest\n",
        "First, we define our region of interest.\n",
        "> **Task:** Run the cell below to visualize all historic flood events in our dataset. Decide which area you want to use to train your model and draw a region of interest (ROI) using the _Draw a rectangle_-tool from the tool bar on the left. Keep in mind the spatial constraints of our other datasets when choosing the ROI."
      ]
    },
    {
      "cell_type": "code",
      "execution_count": null,
      "metadata": {
        "id": "YtKL4FeUE76-"
      },
      "outputs": [],
      "source": [
        "## subtract the permanent water bodies from the flooded areas\n",
        "def mapper(img):\n",
        "  flood = img.select('flooded')\n",
        "  perm = img.select('jrc_perm_water')\n",
        "  return flood.multiply(perm.eq(0))\n",
        "all_floods = flood_ds.map(mapper).sum()\n",
        "\n",
        "## color flooded areas in blue\n",
        "flood_vis = {\n",
        "    'min': 0,\n",
        "    'max': 7,\n",
        "    'palette': cm.palettes.Blues\n",
        "    }\n",
        "\n",
        "## create and display an interactive map\n",
        "Map = geemap.Map()\n",
        "Map.add_layer(all_floods.selfMask(), flood_vis, 'Historic floods')\n",
        "Map.add_colorbar(flood_vis, label=\"Number of floods\", layer_name=\"Historic floods\", font_size=9)\n",
        "Map"
      ]
    },
    {
      "cell_type": "markdown",
      "metadata": {
        "id": "d2lSQyE3MNni"
      },
      "source": [
        "### Sampling random locations\n",
        "We use GEE to randomly sample locations within our ROI. The ROI is taken from the Map-object we defined in the cell above.\n",
        "> **Task:** What needs to be considered if we want to sample evenly distributed locations? Hint: it also mentioned in the documentation of the function we use: [ee.FeatureCollection.randomPoints](https://developers.google.com/earth-engine/apidocs/ee-featurecollection-randompoints).\n",
        "\n",
        "Run the cell below to randomly sample training locations. Note that we use the two variables `SAMPLE_SIZE` and `SEED` from the beginning of the notebook as input for the sampling function."
      ]
    },
    {
      "cell_type": "code",
      "execution_count": null,
      "metadata": {
        "id": "ZxQeQR7U_MAd"
      },
      "outputs": [],
      "source": [
        "## get the region of interest drawn on the map\n",
        "roi = ee.FeatureCollection(Map.draw_features)\n",
        "\n",
        "## randomly sample points within the ROI\n",
        "roi_sample = ee.FeatureCollection.randomPoints(\n",
        "    region=roi.geometry(),\n",
        "    points=SAMPLE_SIZE,\n",
        "    seed=SEED\n",
        ")"
      ]
    },
    {
      "cell_type": "markdown",
      "metadata": {
        "id": "6lNwFlEYTC3m"
      },
      "source": [
        "---\n",
        "## Data enrichment\n",
        "In this section, we will enrich our training locations uning several different datasets. The approach is always the same, namely performing a simple point lookup on each dataset using the locations we sampled above.\n",
        "As the point lookup will be repeated several times, we define a custom function which we then just can apply to each dataset.\n",
        "\n",
        "It is important to know that calling this function does not yet trigger any computations on GEE. This will only happen once we create and start a task for it (which we will do further down below)."
      ]
    },
    {
      "cell_type": "code",
      "execution_count": null,
      "metadata": {
        "id": "bRP500WJ3xlB"
      },
      "outputs": [],
      "source": [
        "def singleband_point_query(fc, img, scale, prop):\n",
        "  \"\"\"\n",
        "  Run a point lookup on a single image.\n",
        "\n",
        "  Parameters\n",
        "  ----------\n",
        "  fc : ee.FeatureCollection\n",
        "    FeatureCollection of points for which to preform the lookup.\n",
        "  img : ee.Image\n",
        "    Image on which to perform the lookup.\n",
        "  scale : float\n",
        "    Spatial resolution of the image.\n",
        "  prop : str\n",
        "    Name of the property under which lookup values shall be added to the feature collection.\n",
        "\n",
        "  Returns\n",
        "  -------\n",
        "  ee.FeatureCollection\n",
        "    Input FeatureCollection with lookup values added as new property.\n",
        "  \"\"\"\n",
        "\n",
        "  ## extract the pixel values at each location\n",
        "  fc = img.reduceRegions(\n",
        "      collection=fc,\n",
        "      reducer=ee.Reducer.first(),\n",
        "      scale=scale\n",
        "  )\n",
        "\n",
        "  ## add the pixel values as a new feature property\n",
        "  def mapper(feature):\n",
        "    return feature.set(prop, feature.get('first'))\n",
        "  fc = fc.map(mapper)\n",
        "\n",
        "  return fc"
      ]
    },
    {
      "cell_type": "markdown",
      "metadata": {
        "id": "N2VUtGXbTe5k"
      },
      "source": [
        "### Elevation, slope and aspect\n",
        "We start by enriching our training locations with information from the DEM. We not only use the elevation above sea level but also slope and aspect which we derive from the DEM using GEE's powerful built-in functions. Note how we are making use of the function we defined in the cell above.\n",
        "\n",
        "Dataset: [Copernicus DEM GLO-30: Global 30m Digital Elevation Model](https://developers.google.com/earth-engine/datasets/catalog/COPERNICUS_DEM_GLO30#description)"
      ]
    },
    {
      "cell_type": "code",
      "execution_count": null,
      "metadata": {
        "id": "6j_p5N7zyNBk"
      },
      "outputs": [],
      "source": [
        "## elevation\n",
        "dem = elevation_ds.select('DEM')\n",
        "roi_sample = singleband_point_query(\n",
        "    fc=roi_sample,\n",
        "    img=dem.mosaic(),\n",
        "    scale=dem.first().projection().nominalScale().getInfo(),\n",
        "    prop='elevation'\n",
        ")\n",
        "\n",
        "## slope\n",
        "slope = ee.Terrain.slope(dem.mosaic())\n",
        "roi_sample = singleband_point_query(\n",
        "    fc=roi_sample,\n",
        "    img=slope,\n",
        "    scale=slope.projection().nominalScale().getInfo(),\n",
        "    prop='slope'\n",
        ")\n",
        "\n",
        "## aspect\n",
        "aspect = ee.Terrain.aspect(dem.mosaic())\n",
        "roi_sample = singleband_point_query(\n",
        "    fc=roi_sample,\n",
        "    img=aspect,\n",
        "    scale=aspect.projection().nominalScale().getInfo(),\n",
        "    prop='aspect'\n",
        ")"
      ]
    },
    {
      "cell_type": "markdown",
      "metadata": {
        "id": "tLmXZm2aTihK"
      },
      "source": [
        "### Land cover\n",
        "In this cell, we lookup the different landcover classes.\n",
        "\n",
        "Dataset: [ESA WorldCover 10m v200](https://developers.google.com/earth-engine/datasets/catalog/ESA_WorldCover_v200?hl=en#description)\n",
        "\n",
        "> **Task:** How many different classes does the dataset contain?"
      ]
    },
    {
      "cell_type": "code",
      "execution_count": null,
      "metadata": {
        "id": "7FXTCTeQotYs"
      },
      "outputs": [],
      "source": [
        "roi_sample = singleband_point_query(\n",
        "    fc=roi_sample,\n",
        "    img=landcover_ds.first(),\n",
        "    scale=landcover_ds.first().projection().nominalScale().getInfo(),\n",
        "    prop='landcover'\n",
        ")"
      ]
    },
    {
      "cell_type": "markdown",
      "metadata": {
        "id": "d1E7DDNoDTry"
      },
      "source": [
        "### Flow accumulation\n",
        "Next, we are determining the upstream drainage area (flow accumulation area) for each of our sample locations. Again, we are just using our custom function for the lookup.\n",
        "\n",
        "Dataset: [MERIT Hydro: Global Hydrography Datasets](https://developers.google.com/earth-engine/datasets/catalog/MERIT_Hydro_v1_0_1#bands)\n",
        "\n",
        "> **Task:** Which unit should we expect for the upstream drainage area?"
      ]
    },
    {
      "cell_type": "code",
      "execution_count": null,
      "metadata": {
        "id": "Uc54vThODWFJ"
      },
      "outputs": [],
      "source": [
        "roi_sample = singleband_point_query(\n",
        "    fc=roi_sample,\n",
        "    img=flowaccumulation,\n",
        "    scale=flowaccumulation.projection().nominalScale().getInfo(),\n",
        "    prop='upstream_drainage_area'\n",
        ")"
      ]
    },
    {
      "cell_type": "markdown",
      "metadata": {
        "id": "-_Tx_7DyTU3A"
      },
      "source": [
        "### Precipitation\n",
        "The precipitation data is different from the other datasets as it does not represent a certain point in time but actually contains over 15'000 individual layers representing over 30 years of daily precipitation. To reduce the number of input variables for our model, we will aggregate the data and only take the maximum precipitation for each pixel and within each year between 2000 and 2018.\n",
        "\n",
        "Dataset: [CHIRPS Daily: Climate Hazards Group InfraRed Precipitation With Station Data (Version 2.0 Final)](https://developers.google.com/earth-engine/datasets/catalog/UCSB-CHG_CHIRPS_DAILY#description)\n",
        "\n",
        "> **Task:** Why do we not use the full dataset? Why do we limit ourselves to only the years 2000 - 2018?"
      ]
    },
    {
      "cell_type": "code",
      "execution_count": null,
      "metadata": {
        "id": "YSVTlGCEnPf0"
      },
      "outputs": [],
      "source": [
        "for year in range(2000, 2019):\n",
        "  daily_max = precipitation_ds.select('precipitation').filter(ee.Filter.date(f\"{year}-01-01\", f\"{year+1}-01-01\")).max()\n",
        "  roi_sample = singleband_point_query(\n",
        "      fc=roi_sample,\n",
        "      img=daily_max,\n",
        "      scale=daily_max.projection().nominalScale().getInfo(),\n",
        "      prop=f\"daily_max_precipitation_-{2018-year}\"\n",
        "  )"
      ]
    },
    {
      "cell_type": "markdown",
      "metadata": {
        "id": "AJ7hbVCYM76Y"
      },
      "source": [
        "### Historic flood\n",
        "The last information which is missing is the information if a location has been flooded in the past or not. This will be our target variable for the model. Again, we can just use are custom function to run the point lookup on the historic floods dataset.\n",
        "\n",
        "Dataset: [Global Flood Database v1 (2000-2018)](https://developers.google.com/earth-engine/datasets/catalog/GLOBAL_FLOOD_DB_MODIS_EVENTS_V1#description)"
      ]
    },
    {
      "cell_type": "code",
      "execution_count": null,
      "metadata": {
        "id": "3VmfC2AuM21H"
      },
      "outputs": [],
      "source": [
        "roi_sample = singleband_point_query(\n",
        "    fc=roi_sample,\n",
        "    img=all_floods,\n",
        "    scale=flood_ds.select('flooded').first().projection().nominalScale().getInfo(),\n",
        "    prop='floods'\n",
        ")"
      ]
    },
    {
      "cell_type": "markdown",
      "metadata": {
        "id": "R7m9QdNl9LEf"
      },
      "source": [
        "### Compute and export results\n",
        "As mentioned above, calling our custom point query-function has not triggered any computations but we merely defined the exact steps which need to be executed. We will now create a task to run all these steps on Google Earth Engine. The results will be stored on your Google Drive as a csv-table. This cell might run for a few minutes so we can use the time to remember (and appreciate) what is actually happening:\n",
        "1. run point lookup on the DEM,\n",
        "2. compute slope from the DEM and run point lookup,\n",
        "3. compute aspect from the DEM and run point lookup,\n",
        "4. run point lookup on the land cover dataset,\n",
        "5. run point lookup upstream drainage area dataset,\n",
        "6. aggregate the yearly maximum daily precipitation for two decades and run point lookup,\n",
        "7. run point lookup on the historic floods dataset,\n",
        "8. write the result to a .csv-file.\n",
        "\n",
        "The computation time is depending on the size of your region of interest but keeping in mind that some of the datasets we use have spatial resolutions of 30 (or even 10) meters, the speed of Google Earth Engine is pretty impressive."
      ]
    },
    {
      "cell_type": "code",
      "execution_count": null,
      "metadata": {
        "id": "IOVtH-Ty_7o4"
      },
      "outputs": [],
      "source": [
        "%%time\n",
        "\n",
        "## remove output file if it already exists\n",
        "try:\n",
        "   (data_dir/f\"{TRAINING_DATA}.csv\").unlink()\n",
        "except FileNotFoundError:\n",
        "  pass\n",
        "\n",
        "## create an export task\n",
        "task = ee.batch.Export.table.toDrive(\n",
        "    collection=roi_sample,\n",
        "    description='data export to Google Drive',\n",
        "    folder=data_dir.name,\n",
        "    fileNamePrefix=TRAINING_DATA,\n",
        "    fileFormat='CSV'\n",
        "    )\n",
        "\n",
        "## run and monitor export task\n",
        "task.start()\n",
        "while task.active():\n",
        "  sleep(10)\n",
        "task.status()"
      ]
    },
    {
      "cell_type": "markdown",
      "metadata": {
        "id": "OiQpDbBhM6EE"
      },
      "source": [
        "With the code below, we import the .csv file generated in GEE from Google Drive. We can now - finally - see the results of our data enrichment.\n",
        "\n",
        "If the code below returns an error, you need to give it a few minutes since it might take some time for GEE to write the file to your Google Drive."
      ]
    },
    {
      "cell_type": "code",
      "execution_count": null,
      "metadata": {
        "id": "HQDM7-jvK-Gy"
      },
      "outputs": [],
      "source": [
        "df = pd.read_csv(data_dir/f\"{TRAINING_DATA}.csv\")\n",
        "df"
      ]
    },
    {
      "cell_type": "markdown",
      "metadata": {
        "id": "YXX7B53pM8BJ"
      },
      "source": [
        "### Normalize elevation\n",
        "In this last post-processing step, we normalize the elevation values to a range between 0 and 1. For this, we get the minimum and maximum elevation within our ROI and apply the [formula for linear scaling](https://developers.google.com/machine-learning/data-prep/transform/normalization#scaling-to-a-range)."
      ]
    },
    {
      "cell_type": "code",
      "execution_count": null,
      "metadata": {
        "id": "ZsxkWc2XOcnP"
      },
      "outputs": [],
      "source": [
        "## determine min/max elevation within roi\n",
        "dem_range = dem.mosaic().reduceRegion(\n",
        "    geometry=roi.geometry(),\n",
        "    reducer=ee.Reducer.minMax(),\n",
        "    scale=dem.first().projection().nominalScale().getInfo(),\n",
        "    bestEffort=True\n",
        ").getInfo()\n",
        "\n",
        "\n",
        "## normalize elevation\n",
        "df['elevation'] = (df['elevation'] - dem_range.get('DEM_min')) / (dem_range.get('DEM_max') - dem_range.get('DEM_min'))\n",
        "\n",
        "## drop locations where any attribute is NaN\n",
        "df = df[~df.isnull().any(axis=1)]\n",
        "\n",
        "## write results to csv\n",
        "df.to_csv(data_dir/f\"{TRAINING_DATA}_norm.csv\", index=False)\n",
        "df"
      ]
    },
    {
      "cell_type": "markdown",
      "metadata": {
        "id": "ZSA6PsDaHfrV"
      },
      "source": [
        "---\n",
        "## Optional: Repeating the same steps but for all 913 historic events"
      ]
    },
    {
      "cell_type": "markdown",
      "metadata": {
        "id": "OvYgQ2JURTsK"
      },
      "source": [
        "### Defining the training locations\n",
        "We sample the same number of locations as before but now, we not only sample within a single ROI but within the geometry of each and every event in our historic event dataset."
      ]
    },
    {
      "cell_type": "code",
      "execution_count": null,
      "metadata": {
        "id": "O6j5xMMMH0js"
      },
      "outputs": [],
      "source": [
        "## sample the same number of sample points for each flood event\n",
        "event_sample_size = SAMPLE_SIZE // flood_ds.size().getInfo()\n",
        "\n",
        "## randomly sample points within each event geometry\n",
        "def mapper(feat):\n",
        "  return ee.FeatureCollection.randomPoints(\n",
        "      region=feat.geometry(),\n",
        "      points=event_sample_size,\n",
        "      seed=SEED\n",
        "  )\n",
        "flood_sample = flood_ds.map(mapper).flatten()"
      ]
    },
    {
      "cell_type": "markdown",
      "metadata": {
        "id": "ntF65MA5R-wc"
      },
      "source": [
        "### Data enrichment\n",
        "Here, we can repeat exactly the same steps as before. The only difference is that we use a different set of training locations for the point lookups. Actually, it would be elegant to define not only the point lookup but the whole data enrichment pipeline as a single function but I deliberately left that out to keep the code more readable."
      ]
    },
    {
      "cell_type": "code",
      "execution_count": null,
      "metadata": {
        "id": "dnYLVlWOMsXc"
      },
      "outputs": [],
      "source": [
        "## elevation\n",
        "flood_sample = singleband_point_query(\n",
        "    fc=flood_sample,\n",
        "    img=dem.mosaic(),\n",
        "    scale=dem.first().projection().nominalScale().getInfo(),\n",
        "    prop='elevation'\n",
        ")\n",
        "\n",
        "## slope\n",
        "flood_sample= singleband_point_query(\n",
        "    fc=flood_sample,\n",
        "    img=slope,\n",
        "    scale=slope.projection().nominalScale().getInfo(),\n",
        "    prop='slope'\n",
        ")\n",
        "\n",
        "## aspect\n",
        "flood_sample = singleband_point_query(\n",
        "    fc=flood_sample,\n",
        "    img=aspect,\n",
        "    scale=aspect.projection().nominalScale().getInfo(),\n",
        "    prop='aspect'\n",
        ")\n",
        "\n",
        "## land cover\n",
        "flood_sample = singleband_point_query(\n",
        "    fc=flood_sample,\n",
        "    img=landcover_ds.first(),\n",
        "    scale=landcover_ds.first().projection().nominalScale().getInfo(),\n",
        "    prop='landcover'\n",
        ")\n",
        "\n",
        "## flow accumulation\n",
        "flood_sample = singleband_point_query(\n",
        "    fc=flood_sample,\n",
        "    img=flowaccumulation,\n",
        "    scale=flowaccumulation.projection().nominalScale().getInfo(),\n",
        "    prop='upstream_drainage_area'\n",
        ")\n",
        "\n",
        "## precipitation\n",
        "for year in range(2000, 2019):\n",
        "  daily_max = precipitation_ds.select('precipitation').filter(ee.Filter.date(f\"{year}-01-01\", f\"{year+1}-01-01\")).max()\n",
        "  flood_sample = singleband_point_query(\n",
        "      fc=flood_sample,\n",
        "      img=daily_max,\n",
        "      scale=daily_max.projection().nominalScale().getInfo(),\n",
        "      prop=f\"daily_max_precipitation_-{2018-year}\"\n",
        "  )\n",
        "\n",
        "## historic flood\n",
        "flood_sample = singleband_point_query(\n",
        "    fc=flood_sample,\n",
        "    img=all_floods,\n",
        "    scale=flood_ds.select('flooded').first().projection().nominalScale().getInfo(),\n",
        "    prop='floods'\n",
        ")"
      ]
    },
    {
      "cell_type": "markdown",
      "metadata": {
        "id": "paXlSWdkTV-k"
      },
      "source": [
        "Same as above, we have to explicitly create a task to actually run the computations on GEE. This will take a bit longer as the last one but while you wait, you can have a look at some apps built with GEE:\n",
        "- https://www.earthengine.app/\n",
        "- https://philippgaertner.github.io/2020/12/ee-apps-table-searchable/"
      ]
    },
    {
      "cell_type": "code",
      "execution_count": null,
      "metadata": {
        "id": "4ncUFRkBMsUS"
      },
      "outputs": [],
      "source": [
        "%%time\n",
        "\n",
        "## remove output file if it already exists\n",
        "try:\n",
        "   (data_dir/'flood_sample.csv').unlink()\n",
        "except FileNotFoundError:\n",
        "  pass\n",
        "\n",
        "## create an export task\n",
        "task = ee.batch.Export.table.toDrive(\n",
        "    collection=flood_sample,\n",
        "    description=\"data export to Google Drive\",\n",
        "    folder=data_dir.name,\n",
        "    fileNamePrefix='flood_sample',\n",
        "    fileFormat='CSV'\n",
        "    )\n",
        "\n",
        "## run and monitor export task\n",
        "task.start()\n",
        "while task.active():\n",
        "  sleep(10)\n",
        "task.status()"
      ]
    },
    {
      "cell_type": "markdown",
      "metadata": {
        "id": "T9bfiFO4Uw1a"
      },
      "source": [
        "The normalization of elevation is a bit trickier than before because we do not want to normalize the full dataset but for each event separately.\n",
        "\n",
        "First, we want to exract all event geometries as individual polygons. This seems to be a rather hard task in GEE so we use [geopandas](https://geopandas.org/en/stable/) - a core library when working with vector data in Python."
      ]
    },
    {
      "cell_type": "code",
      "execution_count": null,
      "metadata": {
        "id": "dP6eLXXZHnhD"
      },
      "outputs": [],
      "source": [
        "## get all image geometries as multipolygon\n",
        "multipolygon_fc = ee.FeatureCollection(flood_ds.select('flooded').geometry())\n",
        "\n",
        "## explode multipolygon to a list of polygons using geopandas\n",
        "gdf = geemap.ee_to_geopandas(multipolygon_fc)\n",
        "gdf.set_crs(4326, inplace=True)\n",
        "\n",
        "## create gee featurecollection of singlepolygons\n",
        "singlepolygons_fc = geemap.geopandas_to_ee(gdf.explode())"
      ]
    },
    {
      "cell_type": "markdown",
      "metadata": {
        "id": "HUxmaQnBV6hX"
      },
      "source": [
        "Second, we use the dataset we created in the cell above to get the minimum and maximum elevation within each event geometry."
      ]
    },
    {
      "cell_type": "code",
      "execution_count": null,
      "metadata": {
        "id": "vd0MsOgaxIwM"
      },
      "outputs": [],
      "source": [
        "## define some input variables\n",
        "dem = elevation_ds.select('DEM')\n",
        "dem_mosaic = dem.mosaic()\n",
        "scale = dem.first().projection().nominalScale().getInfo()\n",
        "\n",
        "## define the mapper\n",
        "def mapper(img):\n",
        "\n",
        "  ## get the minimum and maximum elevation within the event geometry\n",
        "  dem_range = dem_mosaic.reduceRegion(\n",
        "      geometry=img.geometry(),\n",
        "      reducer=ee.Reducer.minMax(),\n",
        "      scale=scale,\n",
        "      bestEffort=True\n",
        "  )\n",
        "\n",
        "  ## create a feature and assign the relevant properties\n",
        "  feat = ee.Feature(img.geometry())\n",
        "  feat = feat.set('id', img.get('id'))\n",
        "  feat = feat.set('system_index', img.get('system:index'))\n",
        "  feat = feat.set('elevation_min', dem_range.get('DEM_min'))\n",
        "  feat =feat.set('elevation_max', dem_range.get('DEM_max'))\n",
        "\n",
        "  return feat\n",
        "\n",
        "## map the mapper over all images in the historic flood dataset\n",
        "dem_ranges = ee.FeatureCollection(flood_ds.select('flooded').map(mapper))"
      ]
    },
    {
      "cell_type": "markdown",
      "metadata": {
        "id": "tXfDT9jWW9VA"
      },
      "source": [
        "And again, we need to actually run the task."
      ]
    },
    {
      "cell_type": "code",
      "execution_count": null,
      "metadata": {
        "id": "Rm4tqt0RNk4F"
      },
      "outputs": [],
      "source": [
        "%%time\n",
        "\n",
        "## remove output file if it already exists\n",
        "try:\n",
        "   (data_dir/'dem_ranges.csv').unlink()\n",
        "except FileNotFoundError:\n",
        "  pass\n",
        "\n",
        "## create an export task\n",
        "task = ee.batch.Export.table.toDrive(\n",
        "    collection=dem_ranges,\n",
        "    description=\"data export to Google Drive\",\n",
        "    folder=data_dir.name,\n",
        "    fileNamePrefix='dem_ranges',\n",
        "    fileFormat='CSV'\n",
        "    )\n",
        "\n",
        "## run and monitor export task\n",
        "task.start()\n",
        "while task.active():\n",
        "  sleep(10)\n",
        "task.status()"
      ]
    },
    {
      "cell_type": "markdown",
      "metadata": {
        "id": "yw41EFbEZIkd"
      },
      "source": [
        "Finally, we are importing the enriched training data and the dataset of min/max elevation so we can bring it together in order to create our final training dataset.\n",
        "\n",
        "> **Task:** Why do we need to normalize the elevation values?"
      ]
    },
    {
      "cell_type": "code",
      "execution_count": null,
      "metadata": {
        "id": "j5c-55raf3z_"
      },
      "outputs": [],
      "source": [
        "## import data\n",
        "df = pd.read_csv(data_dir/'flood_sample.csv')\n",
        "ele = pd.read_csv(data_dir/'dem_ranges.csv')\n",
        "\n",
        "## add minimum and maximum elevation to training dataset\n",
        "df['system:index'] = df['system:index'].apply(lambda x: x.rsplit('_', 1)[0])\n",
        "df = df.merge(ele[['system:index', 'elevation_min', 'elevation_max']], how='left', on='system:index')\n",
        "\n",
        "## normalize elevation\n",
        "df['elevation'] = (df['elevation'] - df['elevation'].min()) / (df['elevation'].max() - df['elevation'].min())\n",
        "\n",
        "## drop locations where any attribute is NaN\n",
        "df = df[~df.isnull().any(axis=1)]\n",
        "\n",
        "## write dataframe to csv\n",
        "df.to_csv(data_dir/'flood_sample_norm.csv', index=False)\n",
        "df"
      ]
    },
    {
      "cell_type": "markdown",
      "metadata": {
        "id": "gjDC_B90cXpd"
      },
      "source": [
        "### Exploring the training dataset\n",
        "> **Task:** Run the remaining two cells and have a look at their output. Try to answer the following questions:\n",
        "1.  Is our training dataset biased? Try to think about the spatial and temporal limitations we mentioned when looking at the datasets.\n",
        "2. How would you rate the distribution of our training data with respect to the *flooded*-attribute? Is it optimal for our purpose?\n",
        "3. Where would you see room for improvement for the sampling approach? How would you implement your idea if you had two write code? No need to get too detailed but I am interested in your approach."
      ]
    },
    {
      "cell_type": "code",
      "execution_count": null,
      "metadata": {
        "id": "Qe5hJmPvcgnl"
      },
      "outputs": [],
      "source": [
        "## print flood counts\n",
        "for k,v in df['floods'].value_counts().to_dict().items():\n",
        "  print(f\"locations with {int(k)} floods: {v}\")"
      ]
    },
    {
      "cell_type": "code",
      "execution_count": null,
      "metadata": {
        "id": "_rqH3Q1hc1ff"
      },
      "outputs": [],
      "source": [
        "## add sampled locations to the map of historic floods\n",
        "Map.add_layer(flood_sample, None, 'Training dataset')\n",
        "Map"
      ]
    }
  ],
  "metadata": {
    "colab": {
      "provenance": [],
      "include_colab_link": true
    },
    "kernelspec": {
      "display_name": "Python 3 (ipykernel)",
      "language": "python",
      "name": "python3"
    },
    "language_info": {
      "codemirror_mode": {
        "name": "ipython",
        "version": 3
      },
      "file_extension": ".py",
      "mimetype": "text/x-python",
      "name": "python",
      "nbconvert_exporter": "python",
      "pygments_lexer": "ipython3",
      "version": "3.11.0"
    },
    "widgets": {
      "application/vnd.jupyter.widget-state+json": {
        "a55f030dd95a4031817c85a73612b0ea": {
          "model_module": "jupyter-leaflet",
          "model_name": "LeafletMapModel",
          "model_module_version": "^0.19",
          "state": {
            "_dom_classes": [],
            "_model_module": "jupyter-leaflet",
            "_model_module_version": "^0.19",
            "_model_name": "LeafletMapModel",
            "_view_count": null,
            "_view_module": "jupyter-leaflet",
            "_view_module_version": "^0.19",
            "_view_name": "LeafletMapView",
            "bottom": 812,
            "bounce_at_zoom_limits": true,
            "box_zoom": true,
            "center": [
              0,
              0
            ],
            "close_popup_on_click": true,
            "controls": [
              "IPY_MODEL_a98d106b4cb847c38b430c672b29629b",
              "IPY_MODEL_82cb6c4d25b1441d928c7ba89fa29dd8",
              "IPY_MODEL_e052e113b6054a4287b4d59f9b2e4110",
              "IPY_MODEL_84b02da0d81c449c8c66b583848d2afe",
              "IPY_MODEL_72be7132a4ba4ef3b59f26557fb2ed47",
              "IPY_MODEL_e4f768f5eddc4e8da1fa22e00b27ede7",
              "IPY_MODEL_5501301467604bfcbb5a55024fdf631f",
              "IPY_MODEL_ff4d6850817e4580b855ce855b643b16",
              "IPY_MODEL_df23920f8ba947c6bad77f3ed03af6fb"
            ],
            "crs": {
              "name": "EPSG3857",
              "custom": false
            },
            "default_style": "IPY_MODEL_14662f9d48b548329bef1a9891fc4998",
            "double_click_zoom": true,
            "dragging": true,
            "dragging_style": "IPY_MODEL_2a3d04c0a2f34fd7b13e0eff17100c99",
            "east": 249.25781250000003,
            "fullscreen": false,
            "inertia": true,
            "inertia_deceleration": 3000,
            "inertia_max_speed": 1500,
            "interpolation": "bilinear",
            "keyboard": true,
            "keyboard_pan_offset": 80,
            "keyboard_zoom_offset": 1,
            "layers": [
              "IPY_MODEL_f64d111de54449ce8bdd9720ddac8473",
              "IPY_MODEL_e9c7c4b401c94c5488e016a550fbba74",
              "IPY_MODEL_69937babc0b74b24979762cabdee7197"
            ],
            "layout": "IPY_MODEL_c485ff750f95458eb23cf1283084d2e5",
            "left": -197,
            "max_zoom": 24,
            "min_zoom": null,
            "modisdate": "2024-11-23",
            "north": 71.9653876991313,
            "options": [
              "bounce_at_zoom_limits",
              "box_zoom",
              "center",
              "close_popup_on_click",
              "double_click_zoom",
              "dragging",
              "fullscreen",
              "inertia",
              "inertia_deceleration",
              "inertia_max_speed",
              "interpolation",
              "keyboard",
              "keyboard_pan_offset",
              "keyboard_zoom_offset",
              "max_zoom",
              "min_zoom",
              "prefer_canvas",
              "scroll_wheel_zoom",
              "tap",
              "tap_tolerance",
              "touch_zoom",
              "world_copy_jump",
              "zoom",
              "zoom_animation_threshold",
              "zoom_delta",
              "zoom_snap"
            ],
            "panes": {},
            "prefer_canvas": false,
            "right": 1221,
            "scroll_wheel_zoom": true,
            "south": -71.96538769913128,
            "style": "IPY_MODEL_14662f9d48b548329bef1a9891fc4998",
            "tap": true,
            "tap_tolerance": 15,
            "top": 212,
            "touch_zoom": true,
            "west": -249.25781250000003,
            "window_url": "https://c8u5o1zebyq-496ff2e9c6d22116-0-colab.googleusercontent.com/outputframe.html?vrz=colab_20241121-060131_RC00_698719823",
            "world_copy_jump": false,
            "zoom": 2,
            "zoom_animation_threshold": 4,
            "zoom_delta": 1,
            "zoom_snap": 1
          }
        },
        "a98d106b4cb847c38b430c672b29629b": {
          "model_module": "jupyter-leaflet",
          "model_name": "LeafletWidgetControlModel",
          "model_module_version": "^0.19",
          "state": {
            "_model_module": "jupyter-leaflet",
            "_model_module_version": "^0.19",
            "_model_name": "LeafletWidgetControlModel",
            "_view_count": null,
            "_view_module": "jupyter-leaflet",
            "_view_module_version": "^0.19",
            "_view_name": "LeafletWidgetControlView",
            "max_height": null,
            "max_width": null,
            "min_height": null,
            "min_width": null,
            "options": [
              "position",
              "transparent_bg"
            ],
            "position": "topleft",
            "transparent_bg": false,
            "widget": "IPY_MODEL_852aad6ce7a04477932d05b9994d0b31"
          }
        },
        "82cb6c4d25b1441d928c7ba89fa29dd8": {
          "model_module": "jupyter-leaflet",
          "model_name": "LeafletZoomControlModel",
          "model_module_version": "^0.19",
          "state": {
            "_model_module": "jupyter-leaflet",
            "_model_module_version": "^0.19",
            "_model_name": "LeafletZoomControlModel",
            "_view_count": null,
            "_view_module": "jupyter-leaflet",
            "_view_module_version": "^0.19",
            "_view_name": "LeafletZoomControlView",
            "options": [
              "position",
              "zoom_in_text",
              "zoom_in_title",
              "zoom_out_text",
              "zoom_out_title"
            ],
            "position": "topleft",
            "zoom_in_text": "+",
            "zoom_in_title": "Zoom in",
            "zoom_out_text": "-",
            "zoom_out_title": "Zoom out"
          }
        },
        "e052e113b6054a4287b4d59f9b2e4110": {
          "model_module": "jupyter-leaflet",
          "model_name": "LeafletFullScreenControlModel",
          "model_module_version": "^0.19",
          "state": {
            "_model_module": "jupyter-leaflet",
            "_model_module_version": "^0.19",
            "_model_name": "LeafletFullScreenControlModel",
            "_view_count": null,
            "_view_module": "jupyter-leaflet",
            "_view_module_version": "^0.19",
            "_view_name": "LeafletFullScreenControlView",
            "options": [
              "position"
            ],
            "position": "topleft"
          }
        },
        "84b02da0d81c449c8c66b583848d2afe": {
          "model_module": "jupyter-leaflet",
          "model_name": "LeafletDrawControlModel",
          "model_module_version": "^0.19",
          "state": {
            "_model_module": "jupyter-leaflet",
            "_model_module_version": "^0.19",
            "_model_name": "LeafletDrawControlModel",
            "_view_count": null,
            "_view_module": "jupyter-leaflet",
            "_view_module_version": "^0.19",
            "_view_name": "LeafletDrawControlView",
            "circle": {},
            "circlemarker": {},
            "data": [],
            "edit": true,
            "marker": {
              "shapeOptions": {
                "color": "#3388ff"
              }
            },
            "options": [
              "position"
            ],
            "polygon": {
              "shapeOptions": {}
            },
            "polyline": {
              "shapeOptions": {}
            },
            "position": "topleft",
            "rectangle": {
              "shapeOptions": {
                "color": "#3388ff"
              }
            },
            "remove": true
          }
        },
        "72be7132a4ba4ef3b59f26557fb2ed47": {
          "model_module": "jupyter-leaflet",
          "model_name": "LeafletScaleControlModel",
          "model_module_version": "^0.19",
          "state": {
            "_model_module": "jupyter-leaflet",
            "_model_module_version": "^0.19",
            "_model_name": "LeafletScaleControlModel",
            "_view_count": null,
            "_view_module": "jupyter-leaflet",
            "_view_module_version": "^0.19",
            "_view_name": "LeafletScaleControlView",
            "imperial": true,
            "max_width": 100,
            "metric": true,
            "options": [
              "imperial",
              "max_width",
              "metric",
              "position",
              "update_when_idle"
            ],
            "position": "bottomleft",
            "update_when_idle": false
          }
        },
        "e4f768f5eddc4e8da1fa22e00b27ede7": {
          "model_module": "jupyter-leaflet",
          "model_name": "LeafletMeasureControlModel",
          "model_module_version": "^0.19",
          "state": {
            "_custom_units": {},
            "_model_module": "jupyter-leaflet",
            "_model_module_version": "^0.19",
            "_model_name": "LeafletMeasureControlModel",
            "_view_count": null,
            "_view_module": "jupyter-leaflet",
            "_view_module_version": "^0.19",
            "_view_name": "LeafletMeasureControlView",
            "active_color": "orange",
            "capture_z_index": 10000,
            "completed_color": "#C8F2BE",
            "options": [
              "active_color",
              "capture_z_index",
              "completed_color",
              "popup_options",
              "position",
              "primary_area_unit",
              "primary_length_unit",
              "secondary_area_unit",
              "secondary_length_unit"
            ],
            "popup_options": {
              "className": "leaflet-measure-resultpopup",
              "autoPanPadding": [
                10,
                10
              ]
            },
            "position": "bottomleft",
            "primary_area_unit": "acres",
            "primary_length_unit": "kilometers",
            "secondary_area_unit": null,
            "secondary_length_unit": null
          }
        },
        "5501301467604bfcbb5a55024fdf631f": {
          "model_module": "jupyter-leaflet",
          "model_name": "LeafletWidgetControlModel",
          "model_module_version": "^0.19",
          "state": {
            "_model_module": "jupyter-leaflet",
            "_model_module_version": "^0.19",
            "_model_name": "LeafletWidgetControlModel",
            "_view_count": null,
            "_view_module": "jupyter-leaflet",
            "_view_module_version": "^0.19",
            "_view_name": "LeafletWidgetControlView",
            "max_height": null,
            "max_width": null,
            "min_height": null,
            "min_width": null,
            "options": [
              "position",
              "transparent_bg"
            ],
            "position": "topright",
            "transparent_bg": false,
            "widget": "IPY_MODEL_780f9b7174254888bc00b6ba208f7779"
          }
        },
        "ff4d6850817e4580b855ce855b643b16": {
          "model_module": "jupyter-leaflet",
          "model_name": "LeafletAttributionControlModel",
          "model_module_version": "^0.19",
          "state": {
            "_model_module": "jupyter-leaflet",
            "_model_module_version": "^0.19",
            "_model_name": "LeafletAttributionControlModel",
            "_view_count": null,
            "_view_module": "jupyter-leaflet",
            "_view_module_version": "^0.19",
            "_view_name": "LeafletAttributionControlView",
            "options": [
              "position",
              "prefix"
            ],
            "position": "bottomright",
            "prefix": "ipyleaflet"
          }
        },
        "df23920f8ba947c6bad77f3ed03af6fb": {
          "model_module": "jupyter-leaflet",
          "model_name": "LeafletWidgetControlModel",
          "model_module_version": "^0.19",
          "state": {
            "_model_module": "jupyter-leaflet",
            "_model_module_version": "^0.19",
            "_model_name": "LeafletWidgetControlModel",
            "_view_count": null,
            "_view_module": "jupyter-leaflet",
            "_view_module_version": "^0.19",
            "_view_name": "LeafletWidgetControlView",
            "max_height": null,
            "max_width": null,
            "min_height": null,
            "min_width": null,
            "options": [
              "position",
              "transparent_bg"
            ],
            "position": "bottomright",
            "transparent_bg": false,
            "widget": "IPY_MODEL_a164668b83d54a87a9769ea9e524d6fb"
          }
        },
        "14662f9d48b548329bef1a9891fc4998": {
          "model_module": "jupyter-leaflet",
          "model_name": "LeafletMapStyleModel",
          "model_module_version": "^0.19",
          "state": {
            "_model_module": "jupyter-leaflet",
            "_model_module_version": "^0.19",
            "_model_name": "LeafletMapStyleModel",
            "_view_count": null,
            "_view_module": "@jupyter-widgets/base",
            "_view_module_version": "1.2.0",
            "_view_name": "StyleView",
            "cursor": "grab"
          }
        },
        "2a3d04c0a2f34fd7b13e0eff17100c99": {
          "model_module": "jupyter-leaflet",
          "model_name": "LeafletMapStyleModel",
          "model_module_version": "^0.19",
          "state": {
            "_model_module": "jupyter-leaflet",
            "_model_module_version": "^0.19",
            "_model_name": "LeafletMapStyleModel",
            "_view_count": null,
            "_view_module": "@jupyter-widgets/base",
            "_view_module_version": "1.2.0",
            "_view_name": "StyleView",
            "cursor": "move"
          }
        },
        "f64d111de54449ce8bdd9720ddac8473": {
          "model_module": "jupyter-leaflet",
          "model_name": "LeafletTileLayerModel",
          "model_module_version": "^0.19",
          "state": {
            "_model_module": "jupyter-leaflet",
            "_model_module_version": "^0.19",
            "_model_name": "LeafletTileLayerModel",
            "_view_count": null,
            "_view_module": "jupyter-leaflet",
            "_view_module_version": "^0.19",
            "_view_name": "LeafletTileLayerView",
            "attribution": "&copy; <a href=\"https://www.openstreetmap.org/copyright\">OpenStreetMap</a> contributors &copy; <a href=\"https://carto.com/attributions\">CARTO</a>",
            "base": true,
            "bottom": true,
            "bounds": null,
            "detect_retina": false,
            "loading": false,
            "max_native_zoom": null,
            "max_zoom": 30,
            "min_native_zoom": null,
            "min_zoom": 1,
            "name": "CartoDB.DarkMatter",
            "no_wrap": false,
            "opacity": 1,
            "options": [
              "attribution",
              "bounds",
              "detect_retina",
              "max_native_zoom",
              "max_zoom",
              "min_native_zoom",
              "min_zoom",
              "no_wrap",
              "tile_size",
              "tms",
              "zoom_offset"
            ],
            "pane": "",
            "popup": null,
            "popup_max_height": null,
            "popup_max_width": 300,
            "popup_min_width": 50,
            "show_loading": false,
            "subitems": [],
            "tile_size": 256,
            "tms": false,
            "url": "https://a.basemaps.cartocdn.com/dark_all/{z}/{x}/{y}.png",
            "visible": true,
            "zoom_offset": 0
          }
        },
        "e9c7c4b401c94c5488e016a550fbba74": {
          "model_module": "jupyter-leaflet",
          "model_name": "LeafletTileLayerModel",
          "model_module_version": "^0.19",
          "state": {
            "_model_module": "jupyter-leaflet",
            "_model_module_version": "^0.19",
            "_model_name": "LeafletTileLayerModel",
            "_view_count": null,
            "_view_module": "jupyter-leaflet",
            "_view_module_version": "^0.19",
            "_view_name": "LeafletTileLayerView",
            "attribution": "(C) OpenStreetMap contributors (C) CARTO",
            "base": false,
            "bottom": true,
            "bounds": null,
            "detect_retina": false,
            "loading": false,
            "max_native_zoom": null,
            "max_zoom": 30,
            "min_native_zoom": null,
            "min_zoom": 0,
            "name": "CartoDB.Positron",
            "no_wrap": false,
            "opacity": 1,
            "options": [
              "attribution",
              "bounds",
              "detect_retina",
              "max_native_zoom",
              "max_zoom",
              "min_native_zoom",
              "min_zoom",
              "no_wrap",
              "tile_size",
              "tms",
              "zoom_offset"
            ],
            "pane": "",
            "popup": null,
            "popup_max_height": null,
            "popup_max_width": 300,
            "popup_min_width": 50,
            "show_loading": false,
            "subitems": [],
            "tile_size": 256,
            "tms": false,
            "url": "https://a.basemaps.cartocdn.com/light_all/{z}/{x}/{y}.png",
            "visible": false,
            "zoom_offset": 0
          }
        },
        "69937babc0b74b24979762cabdee7197": {
          "model_module": "jupyter-leaflet",
          "model_name": "LeafletTileLayerModel",
          "model_module_version": "^0.19",
          "state": {
            "_model_module": "jupyter-leaflet",
            "_model_module_version": "^0.19",
            "_model_name": "LeafletTileLayerModel",
            "_view_count": null,
            "_view_module": "jupyter-leaflet",
            "_view_module_version": "^0.19",
            "_view_name": "LeafletTileLayerView",
            "attribution": "Google Earth Engine",
            "base": false,
            "bottom": true,
            "bounds": null,
            "detect_retina": false,
            "loading": false,
            "max_native_zoom": null,
            "max_zoom": 24,
            "min_native_zoom": null,
            "min_zoom": 0,
            "name": "Historic floods",
            "no_wrap": false,
            "opacity": 1,
            "options": [
              "attribution",
              "bounds",
              "detect_retina",
              "max_native_zoom",
              "max_zoom",
              "min_native_zoom",
              "min_zoom",
              "no_wrap",
              "tile_size",
              "tms",
              "zoom_offset"
            ],
            "pane": "",
            "popup": null,
            "popup_max_height": null,
            "popup_max_width": 300,
            "popup_min_width": 50,
            "show_loading": false,
            "subitems": [],
            "tile_size": 256,
            "tms": false,
            "url": "https://earthengine.googleapis.com/v1/projects/ee-timwaldburger-flood475/maps/b35d2943c3e9b8ceb7c03f77fc0eb167-c4f4ffbcc5be03c5d8f66b4f5da44e23/tiles/{z}/{x}/{y}",
            "visible": true,
            "zoom_offset": 0
          }
        },
        "c485ff750f95458eb23cf1283084d2e5": {
          "model_module": "@jupyter-widgets/base",
          "model_name": "LayoutModel",
          "model_module_version": "1.2.0",
          "state": {
            "_model_module": "@jupyter-widgets/base",
            "_model_module_version": "1.2.0",
            "_model_name": "LayoutModel",
            "_view_count": null,
            "_view_module": "@jupyter-widgets/base",
            "_view_module_version": "1.2.0",
            "_view_name": "LayoutView",
            "align_content": null,
            "align_items": null,
            "align_self": null,
            "border": null,
            "bottom": null,
            "display": null,
            "flex": null,
            "flex_flow": null,
            "grid_area": null,
            "grid_auto_columns": null,
            "grid_auto_flow": null,
            "grid_auto_rows": null,
            "grid_column": null,
            "grid_gap": null,
            "grid_row": null,
            "grid_template_areas": null,
            "grid_template_columns": null,
            "grid_template_rows": null,
            "height": "600px",
            "justify_content": null,
            "justify_items": null,
            "left": null,
            "margin": null,
            "max_height": null,
            "max_width": null,
            "min_height": null,
            "min_width": null,
            "object_fit": null,
            "object_position": null,
            "order": null,
            "overflow": null,
            "overflow_x": null,
            "overflow_y": null,
            "padding": null,
            "right": null,
            "top": null,
            "visibility": null,
            "width": null
          }
        },
        "71e3b6a3a9ac4564a616923c553941f8": {
          "model_module": "jupyter-leaflet",
          "model_name": "LeafletMapStyleModel",
          "model_module_version": "^0.19",
          "state": {
            "_model_module": "jupyter-leaflet",
            "_model_module_version": "^0.19",
            "_model_name": "LeafletMapStyleModel",
            "_view_count": null,
            "_view_module": "@jupyter-widgets/base",
            "_view_module_version": "1.2.0",
            "_view_name": "StyleView",
            "cursor": "grab"
          }
        },
        "852aad6ce7a04477932d05b9994d0b31": {
          "model_module": "@jupyter-widgets/controls",
          "model_name": "HBoxModel",
          "model_module_version": "1.5.0",
          "state": {
            "_dom_classes": [
              "geemap-colab"
            ],
            "_model_module": "@jupyter-widgets/controls",
            "_model_module_version": "1.5.0",
            "_model_name": "HBoxModel",
            "_view_count": null,
            "_view_module": "@jupyter-widgets/controls",
            "_view_module_version": "1.5.0",
            "_view_name": "HBoxView",
            "box_style": "",
            "children": [
              "IPY_MODEL_671743b931dc4606b5d7522ef77f86cd"
            ],
            "layout": "IPY_MODEL_3779a8d418c24c7a8c97a1910f7f315e"
          }
        },
        "780f9b7174254888bc00b6ba208f7779": {
          "model_module": "@jupyter-widgets/controls",
          "model_name": "VBoxModel",
          "model_module_version": "1.5.0",
          "state": {
            "_dom_classes": [
              "geemap-colab"
            ],
            "_model_module": "@jupyter-widgets/controls",
            "_model_module_version": "1.5.0",
            "_model_name": "VBoxModel",
            "_view_count": null,
            "_view_module": "@jupyter-widgets/controls",
            "_view_module_version": "1.5.0",
            "_view_name": "VBoxView",
            "box_style": "",
            "children": [
              "IPY_MODEL_39033dcbd1604749ba610da60fccb0b6",
              "IPY_MODEL_287272bd49524766ada89994bdb80905"
            ],
            "layout": "IPY_MODEL_b06fb010a3f041fca31b5cc09bb9703f"
          }
        },
        "a164668b83d54a87a9769ea9e524d6fb": {
          "model_module": "@jupyter-widgets/output",
          "model_name": "OutputModel",
          "model_module_version": "1.0.0",
          "state": {
            "_dom_classes": [
              "geemap-colab"
            ],
            "_model_module": "@jupyter-widgets/output",
            "_model_module_version": "1.0.0",
            "_model_name": "OutputModel",
            "_view_count": null,
            "_view_module": "@jupyter-widgets/output",
            "_view_module_version": "1.0.0",
            "_view_name": "OutputView",
            "layout": "IPY_MODEL_1f349fe6e45d4c9596fec3bd16a6674f",
            "msg_id": "",
            "outputs": [
              {
                "output_type": "display_data",
                "data": {
                  "text/plain": "<Figure size 300x30 with 1 Axes>",
                  "image/png": "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\n"
                },
                "metadata": {}
              }
            ]
          }
        },
        "671743b931dc4606b5d7522ef77f86cd": {
          "model_module": "@jupyter-widgets/controls",
          "model_name": "ToggleButtonModel",
          "model_module_version": "1.5.0",
          "state": {
            "_dom_classes": [],
            "_model_module": "@jupyter-widgets/controls",
            "_model_module_version": "1.5.0",
            "_model_name": "ToggleButtonModel",
            "_view_count": null,
            "_view_module": "@jupyter-widgets/controls",
            "_view_module_version": "1.5.0",
            "_view_name": "ToggleButtonView",
            "button_style": "",
            "description": "",
            "description_tooltip": null,
            "disabled": false,
            "icon": "globe",
            "layout": "IPY_MODEL_37b389772610416fb8a8b51e6a3463ed",
            "style": "IPY_MODEL_d00f3bc877e248c9bff2645dd43aa386",
            "tooltip": "Search location/data",
            "value": false
          }
        },
        "3779a8d418c24c7a8c97a1910f7f315e": {
          "model_module": "@jupyter-widgets/base",
          "model_name": "LayoutModel",
          "model_module_version": "1.2.0",
          "state": {
            "_model_module": "@jupyter-widgets/base",
            "_model_module_version": "1.2.0",
            "_model_name": "LayoutModel",
            "_view_count": null,
            "_view_module": "@jupyter-widgets/base",
            "_view_module_version": "1.2.0",
            "_view_name": "LayoutView",
            "align_content": null,
            "align_items": null,
            "align_self": null,
            "border": null,
            "bottom": null,
            "display": null,
            "flex": null,
            "flex_flow": null,
            "grid_area": null,
            "grid_auto_columns": null,
            "grid_auto_flow": null,
            "grid_auto_rows": null,
            "grid_column": null,
            "grid_gap": null,
            "grid_row": null,
            "grid_template_areas": null,
            "grid_template_columns": null,
            "grid_template_rows": null,
            "height": null,
            "justify_content": null,
            "justify_items": null,
            "left": null,
            "margin": null,
            "max_height": null,
            "max_width": null,
            "min_height": null,
            "min_width": null,
            "object_fit": null,
            "object_position": null,
            "order": null,
            "overflow": null,
            "overflow_x": null,
            "overflow_y": null,
            "padding": null,
            "right": null,
            "top": null,
            "visibility": null,
            "width": null
          }
        },
        "39033dcbd1604749ba610da60fccb0b6": {
          "model_module": "@jupyter-widgets/controls",
          "model_name": "HBoxModel",
          "model_module_version": "1.5.0",
          "state": {
            "_dom_classes": [],
            "_model_module": "@jupyter-widgets/controls",
            "_model_module_version": "1.5.0",
            "_model_name": "HBoxModel",
            "_view_count": null,
            "_view_module": "@jupyter-widgets/controls",
            "_view_module_version": "1.5.0",
            "_view_name": "HBoxView",
            "box_style": "",
            "children": [
              "IPY_MODEL_690cb7a490a9450f8d6ce97b139c97fc",
              "IPY_MODEL_a667197aa6d747d5b86af38b9ddf99a1"
            ],
            "layout": "IPY_MODEL_8e2e4f889da94fffab8aa38962c28001"
          }
        },
        "287272bd49524766ada89994bdb80905": {
          "model_module": "@jupyter-widgets/controls",
          "model_name": "VBoxModel",
          "model_module_version": "1.5.0",
          "state": {
            "_dom_classes": [],
            "_model_module": "@jupyter-widgets/controls",
            "_model_module_version": "1.5.0",
            "_model_name": "VBoxModel",
            "_view_count": null,
            "_view_module": "@jupyter-widgets/controls",
            "_view_module_version": "1.5.0",
            "_view_name": "VBoxView",
            "box_style": "",
            "children": [
              "IPY_MODEL_a021794ac97b4fa585bc88e836d43f53"
            ],
            "layout": "IPY_MODEL_74d69d1e97ce40c89f9144705f191de9"
          }
        },
        "b06fb010a3f041fca31b5cc09bb9703f": {
          "model_module": "@jupyter-widgets/base",
          "model_name": "LayoutModel",
          "model_module_version": "1.2.0",
          "state": {
            "_model_module": "@jupyter-widgets/base",
            "_model_module_version": "1.2.0",
            "_model_name": "LayoutModel",
            "_view_count": null,
            "_view_module": "@jupyter-widgets/base",
            "_view_module_version": "1.2.0",
            "_view_name": "LayoutView",
            "align_content": null,
            "align_items": null,
            "align_self": null,
            "border": null,
            "bottom": null,
            "display": null,
            "flex": null,
            "flex_flow": null,
            "grid_area": null,
            "grid_auto_columns": null,
            "grid_auto_flow": null,
            "grid_auto_rows": null,
            "grid_column": null,
            "grid_gap": null,
            "grid_row": null,
            "grid_template_areas": null,
            "grid_template_columns": null,
            "grid_template_rows": null,
            "height": null,
            "justify_content": null,
            "justify_items": null,
            "left": null,
            "margin": null,
            "max_height": null,
            "max_width": null,
            "min_height": null,
            "min_width": null,
            "object_fit": null,
            "object_position": null,
            "order": null,
            "overflow": null,
            "overflow_x": null,
            "overflow_y": null,
            "padding": null,
            "right": null,
            "top": null,
            "visibility": null,
            "width": null
          }
        },
        "1f349fe6e45d4c9596fec3bd16a6674f": {
          "model_module": "@jupyter-widgets/base",
          "model_name": "LayoutModel",
          "model_module_version": "1.2.0",
          "state": {
            "_model_module": "@jupyter-widgets/base",
            "_model_module_version": "1.2.0",
            "_model_name": "LayoutModel",
            "_view_count": null,
            "_view_module": "@jupyter-widgets/base",
            "_view_module_version": "1.2.0",
            "_view_name": "LayoutView",
            "align_content": null,
            "align_items": null,
            "align_self": null,
            "border": null,
            "bottom": null,
            "display": null,
            "flex": null,
            "flex_flow": null,
            "grid_area": null,
            "grid_auto_columns": null,
            "grid_auto_flow": null,
            "grid_auto_rows": null,
            "grid_column": null,
            "grid_gap": null,
            "grid_row": null,
            "grid_template_areas": null,
            "grid_template_columns": null,
            "grid_template_rows": null,
            "height": null,
            "justify_content": null,
            "justify_items": null,
            "left": null,
            "margin": null,
            "max_height": null,
            "max_width": null,
            "min_height": null,
            "min_width": null,
            "object_fit": null,
            "object_position": null,
            "order": null,
            "overflow": null,
            "overflow_x": null,
            "overflow_y": null,
            "padding": null,
            "right": null,
            "top": null,
            "visibility": null,
            "width": "270px"
          }
        },
        "37b389772610416fb8a8b51e6a3463ed": {
          "model_module": "@jupyter-widgets/base",
          "model_name": "LayoutModel",
          "model_module_version": "1.2.0",
          "state": {
            "_model_module": "@jupyter-widgets/base",
            "_model_module_version": "1.2.0",
            "_model_name": "LayoutModel",
            "_view_count": null,
            "_view_module": "@jupyter-widgets/base",
            "_view_module_version": "1.2.0",
            "_view_name": "LayoutView",
            "align_content": null,
            "align_items": null,
            "align_self": null,
            "border": null,
            "bottom": null,
            "display": null,
            "flex": null,
            "flex_flow": null,
            "grid_area": null,
            "grid_auto_columns": null,
            "grid_auto_flow": null,
            "grid_auto_rows": null,
            "grid_column": null,
            "grid_gap": null,
            "grid_row": null,
            "grid_template_areas": null,
            "grid_template_columns": null,
            "grid_template_rows": null,
            "height": "28px",
            "justify_content": null,
            "justify_items": null,
            "left": null,
            "margin": null,
            "max_height": null,
            "max_width": null,
            "min_height": null,
            "min_width": null,
            "object_fit": null,
            "object_position": null,
            "order": null,
            "overflow": null,
            "overflow_x": null,
            "overflow_y": null,
            "padding": "0px 0px 0px 4px",
            "right": null,
            "top": null,
            "visibility": null,
            "width": "28px"
          }
        },
        "d00f3bc877e248c9bff2645dd43aa386": {
          "model_module": "@jupyter-widgets/controls",
          "model_name": "DescriptionStyleModel",
          "model_module_version": "1.5.0",
          "state": {
            "_model_module": "@jupyter-widgets/controls",
            "_model_module_version": "1.5.0",
            "_model_name": "DescriptionStyleModel",
            "_view_count": null,
            "_view_module": "@jupyter-widgets/base",
            "_view_module_version": "1.2.0",
            "_view_name": "StyleView",
            "description_width": ""
          }
        },
        "690cb7a490a9450f8d6ce97b139c97fc": {
          "model_module": "@jupyter-widgets/controls",
          "model_name": "ToggleButtonModel",
          "model_module_version": "1.5.0",
          "state": {
            "_dom_classes": [],
            "_model_module": "@jupyter-widgets/controls",
            "_model_module_version": "1.5.0",
            "_model_name": "ToggleButtonModel",
            "_view_count": null,
            "_view_module": "@jupyter-widgets/controls",
            "_view_module_version": "1.5.0",
            "_view_name": "ToggleButtonView",
            "button_style": "",
            "description": "",
            "description_tooltip": null,
            "disabled": false,
            "icon": "server",
            "layout": "IPY_MODEL_0cdea046074b49f9b3ceac17e960073b",
            "style": "IPY_MODEL_4b7cbb20391a406383297b5f930a9cfc",
            "tooltip": "Layers",
            "value": true
          }
        },
        "a667197aa6d747d5b86af38b9ddf99a1": {
          "model_module": "@jupyter-widgets/controls",
          "model_name": "ToggleButtonModel",
          "model_module_version": "1.5.0",
          "state": {
            "_dom_classes": [],
            "_model_module": "@jupyter-widgets/controls",
            "_model_module_version": "1.5.0",
            "_model_name": "ToggleButtonModel",
            "_view_count": null,
            "_view_module": "@jupyter-widgets/controls",
            "_view_module_version": "1.5.0",
            "_view_name": "ToggleButtonView",
            "button_style": "",
            "description": "",
            "description_tooltip": null,
            "disabled": false,
            "icon": "wrench",
            "layout": "IPY_MODEL_f308f742de7044569ce333afdb0d64d0",
            "style": "IPY_MODEL_418fef591c1d4661b4233c569d81f104",
            "tooltip": "Toolbar",
            "value": false
          }
        },
        "8e2e4f889da94fffab8aa38962c28001": {
          "model_module": "@jupyter-widgets/base",
          "model_name": "LayoutModel",
          "model_module_version": "1.2.0",
          "state": {
            "_model_module": "@jupyter-widgets/base",
            "_model_module_version": "1.2.0",
            "_model_name": "LayoutModel",
            "_view_count": null,
            "_view_module": "@jupyter-widgets/base",
            "_view_module_version": "1.2.0",
            "_view_name": "LayoutView",
            "align_content": null,
            "align_items": "center",
            "align_self": null,
            "border": null,
            "bottom": null,
            "display": "flex",
            "flex": null,
            "flex_flow": null,
            "grid_area": null,
            "grid_auto_columns": null,
            "grid_auto_flow": null,
            "grid_auto_rows": null,
            "grid_column": null,
            "grid_gap": null,
            "grid_row": null,
            "grid_template_areas": null,
            "grid_template_columns": null,
            "grid_template_rows": null,
            "height": null,
            "justify_content": "flex-end",
            "justify_items": null,
            "left": null,
            "margin": null,
            "max_height": null,
            "max_width": null,
            "min_height": null,
            "min_width": null,
            "object_fit": null,
            "object_position": null,
            "order": null,
            "overflow": null,
            "overflow_x": null,
            "overflow_y": null,
            "padding": null,
            "right": null,
            "top": null,
            "visibility": null,
            "width": null
          }
        },
        "a021794ac97b4fa585bc88e836d43f53": {
          "model_module": "@jupyter-widgets/controls",
          "model_name": "VBoxModel",
          "model_module_version": "1.5.0",
          "state": {
            "_dom_classes": [
              "geemap-colab"
            ],
            "_model_module": "@jupyter-widgets/controls",
            "_model_module_version": "1.5.0",
            "_model_name": "VBoxModel",
            "_view_count": null,
            "_view_module": "@jupyter-widgets/controls",
            "_view_module_version": "1.5.0",
            "_view_name": "VBoxView",
            "box_style": "",
            "children": [
              "IPY_MODEL_bbfaf21d970b4b4aa32e0f66ae9b013b",
              "IPY_MODEL_790aefdb17aa41eb9fa50e0a9ad49192"
            ],
            "layout": "IPY_MODEL_9d73cad3bd19487dad29e88a628fa641"
          }
        },
        "74d69d1e97ce40c89f9144705f191de9": {
          "model_module": "@jupyter-widgets/base",
          "model_name": "LayoutModel",
          "model_module_version": "1.2.0",
          "state": {
            "_model_module": "@jupyter-widgets/base",
            "_model_module_version": "1.2.0",
            "_model_name": "LayoutModel",
            "_view_count": null,
            "_view_module": "@jupyter-widgets/base",
            "_view_module_version": "1.2.0",
            "_view_name": "LayoutView",
            "align_content": null,
            "align_items": null,
            "align_self": null,
            "border": null,
            "bottom": null,
            "display": null,
            "flex": null,
            "flex_flow": null,
            "grid_area": null,
            "grid_auto_columns": null,
            "grid_auto_flow": null,
            "grid_auto_rows": null,
            "grid_column": null,
            "grid_gap": null,
            "grid_row": null,
            "grid_template_areas": null,
            "grid_template_columns": null,
            "grid_template_rows": null,
            "height": null,
            "justify_content": null,
            "justify_items": null,
            "left": null,
            "margin": null,
            "max_height": null,
            "max_width": null,
            "min_height": null,
            "min_width": null,
            "object_fit": null,
            "object_position": null,
            "order": null,
            "overflow": null,
            "overflow_x": null,
            "overflow_y": null,
            "padding": null,
            "right": null,
            "top": null,
            "visibility": null,
            "width": null
          }
        },
        "0cdea046074b49f9b3ceac17e960073b": {
          "model_module": "@jupyter-widgets/base",
          "model_name": "LayoutModel",
          "model_module_version": "1.2.0",
          "state": {
            "_model_module": "@jupyter-widgets/base",
            "_model_module_version": "1.2.0",
            "_model_name": "LayoutModel",
            "_view_count": null,
            "_view_module": "@jupyter-widgets/base",
            "_view_module_version": "1.2.0",
            "_view_name": "LayoutView",
            "align_content": null,
            "align_items": null,
            "align_self": null,
            "border": null,
            "bottom": null,
            "display": null,
            "flex": null,
            "flex_flow": null,
            "grid_area": null,
            "grid_auto_columns": null,
            "grid_auto_flow": null,
            "grid_auto_rows": null,
            "grid_column": null,
            "grid_gap": null,
            "grid_row": null,
            "grid_template_areas": null,
            "grid_template_columns": null,
            "grid_template_rows": null,
            "height": "28px",
            "justify_content": null,
            "justify_items": null,
            "left": null,
            "margin": null,
            "max_height": null,
            "max_width": null,
            "min_height": null,
            "min_width": null,
            "object_fit": null,
            "object_position": null,
            "order": null,
            "overflow": null,
            "overflow_x": null,
            "overflow_y": null,
            "padding": null,
            "right": null,
            "top": null,
            "visibility": null,
            "width": "72px"
          }
        },
        "4b7cbb20391a406383297b5f930a9cfc": {
          "model_module": "@jupyter-widgets/controls",
          "model_name": "DescriptionStyleModel",
          "model_module_version": "1.5.0",
          "state": {
            "_model_module": "@jupyter-widgets/controls",
            "_model_module_version": "1.5.0",
            "_model_name": "DescriptionStyleModel",
            "_view_count": null,
            "_view_module": "@jupyter-widgets/base",
            "_view_module_version": "1.2.0",
            "_view_name": "StyleView",
            "description_width": ""
          }
        },
        "f308f742de7044569ce333afdb0d64d0": {
          "model_module": "@jupyter-widgets/base",
          "model_name": "LayoutModel",
          "model_module_version": "1.2.0",
          "state": {
            "_model_module": "@jupyter-widgets/base",
            "_model_module_version": "1.2.0",
            "_model_name": "LayoutModel",
            "_view_count": null,
            "_view_module": "@jupyter-widgets/base",
            "_view_module_version": "1.2.0",
            "_view_name": "LayoutView",
            "align_content": null,
            "align_items": null,
            "align_self": null,
            "border": null,
            "bottom": null,
            "display": null,
            "flex": null,
            "flex_flow": null,
            "grid_area": null,
            "grid_auto_columns": null,
            "grid_auto_flow": null,
            "grid_auto_rows": null,
            "grid_column": null,
            "grid_gap": null,
            "grid_row": null,
            "grid_template_areas": null,
            "grid_template_columns": null,
            "grid_template_rows": null,
            "height": "28px",
            "justify_content": null,
            "justify_items": null,
            "left": null,
            "margin": null,
            "max_height": null,
            "max_width": null,
            "min_height": null,
            "min_width": null,
            "object_fit": null,
            "object_position": null,
            "order": null,
            "overflow": null,
            "overflow_x": null,
            "overflow_y": null,
            "padding": "0px 0px 0px 4px",
            "right": null,
            "top": null,
            "visibility": null,
            "width": "28px"
          }
        },
        "418fef591c1d4661b4233c569d81f104": {
          "model_module": "@jupyter-widgets/controls",
          "model_name": "DescriptionStyleModel",
          "model_module_version": "1.5.0",
          "state": {
            "_model_module": "@jupyter-widgets/controls",
            "_model_module_version": "1.5.0",
            "_model_name": "DescriptionStyleModel",
            "_view_count": null,
            "_view_module": "@jupyter-widgets/base",
            "_view_module_version": "1.2.0",
            "_view_name": "StyleView",
            "description_width": ""
          }
        },
        "bbfaf21d970b4b4aa32e0f66ae9b013b": {
          "model_module": "@jupyter-widgets/controls",
          "model_name": "HBoxModel",
          "model_module_version": "1.5.0",
          "state": {
            "_dom_classes": [],
            "_model_module": "@jupyter-widgets/controls",
            "_model_module_version": "1.5.0",
            "_model_name": "HBoxModel",
            "_view_count": null,
            "_view_module": "@jupyter-widgets/controls",
            "_view_module_version": "1.5.0",
            "_view_name": "HBoxView",
            "box_style": "",
            "children": [
              "IPY_MODEL_a4fc1b8a8e8041e28b610c4748d67889",
              "IPY_MODEL_88a6f69d10a344c19866bee289aa6665"
            ],
            "layout": "IPY_MODEL_22c73a0ae24944e89736c82066643447"
          }
        },
        "790aefdb17aa41eb9fa50e0a9ad49192": {
          "model_module": "@jupyter-widgets/controls",
          "model_name": "VBoxModel",
          "model_module_version": "1.5.0",
          "state": {
            "_dom_classes": [],
            "_model_module": "@jupyter-widgets/controls",
            "_model_module_version": "1.5.0",
            "_model_name": "VBoxModel",
            "_view_count": null,
            "_view_module": "@jupyter-widgets/controls",
            "_view_module_version": "1.5.0",
            "_view_name": "VBoxView",
            "box_style": "",
            "children": [
              "IPY_MODEL_547ab25c947146c6be295df722ef5bec",
              "IPY_MODEL_42ccc8b93a474307983a6290edbf7120",
              "IPY_MODEL_0cc96b7152564716822e3c7744c6b902",
              "IPY_MODEL_82c73afed1ae45abbff56625ed494051"
            ],
            "layout": "IPY_MODEL_e9df81c60e0a4e189aa400f13a161c58"
          }
        },
        "9d73cad3bd19487dad29e88a628fa641": {
          "model_module": "@jupyter-widgets/base",
          "model_name": "LayoutModel",
          "model_module_version": "1.2.0",
          "state": {
            "_model_module": "@jupyter-widgets/base",
            "_model_module_version": "1.2.0",
            "_model_name": "LayoutModel",
            "_view_count": null,
            "_view_module": "@jupyter-widgets/base",
            "_view_module_version": "1.2.0",
            "_view_name": "LayoutView",
            "align_content": null,
            "align_items": null,
            "align_self": null,
            "border": null,
            "bottom": null,
            "display": null,
            "flex": null,
            "flex_flow": null,
            "grid_area": null,
            "grid_auto_columns": null,
            "grid_auto_flow": null,
            "grid_auto_rows": null,
            "grid_column": null,
            "grid_gap": null,
            "grid_row": null,
            "grid_template_areas": null,
            "grid_template_columns": null,
            "grid_template_rows": null,
            "height": null,
            "justify_content": null,
            "justify_items": null,
            "left": null,
            "margin": null,
            "max_height": null,
            "max_width": null,
            "min_height": null,
            "min_width": null,
            "object_fit": null,
            "object_position": null,
            "order": null,
            "overflow": null,
            "overflow_x": null,
            "overflow_y": null,
            "padding": null,
            "right": null,
            "top": null,
            "visibility": null,
            "width": null
          }
        },
        "a4fc1b8a8e8041e28b610c4748d67889": {
          "model_module": "@jupyter-widgets/controls",
          "model_name": "ButtonModel",
          "model_module_version": "1.5.0",
          "state": {
            "_dom_classes": [],
            "_model_module": "@jupyter-widgets/controls",
            "_model_module_version": "1.5.0",
            "_model_name": "ButtonModel",
            "_view_count": null,
            "_view_module": "@jupyter-widgets/controls",
            "_view_module_version": "1.5.0",
            "_view_name": "ButtonView",
            "button_style": "primary",
            "description": "",
            "disabled": false,
            "icon": "times",
            "layout": "IPY_MODEL_131e736a531e4239addf1f49819ed598",
            "style": "IPY_MODEL_700b3fd623894c829944b0463ba0924f",
            "tooltip": "Close the tool"
          }
        },
        "88a6f69d10a344c19866bee289aa6665": {
          "model_module": "@jupyter-widgets/controls",
          "model_name": "ToggleButtonModel",
          "model_module_version": "1.5.0",
          "state": {
            "_dom_classes": [],
            "_model_module": "@jupyter-widgets/controls",
            "_model_module_version": "1.5.0",
            "_model_name": "ToggleButtonModel",
            "_view_count": null,
            "_view_module": "@jupyter-widgets/controls",
            "_view_module_version": "1.5.0",
            "_view_name": "ToggleButtonView",
            "button_style": "",
            "description": "",
            "description_tooltip": null,
            "disabled": false,
            "icon": "server",
            "layout": "IPY_MODEL_0d3a4adbf8184c48b6b9ad693d3fd780",
            "style": "IPY_MODEL_48c037d8c6514e37bcad4d06f5762276",
            "tooltip": "Layer Manager",
            "value": true
          }
        },
        "22c73a0ae24944e89736c82066643447": {
          "model_module": "@jupyter-widgets/base",
          "model_name": "LayoutModel",
          "model_module_version": "1.2.0",
          "state": {
            "_model_module": "@jupyter-widgets/base",
            "_model_module_version": "1.2.0",
            "_model_name": "LayoutModel",
            "_view_count": null,
            "_view_module": "@jupyter-widgets/base",
            "_view_module_version": "1.2.0",
            "_view_name": "LayoutView",
            "align_content": null,
            "align_items": null,
            "align_self": null,
            "border": null,
            "bottom": null,
            "display": "none",
            "flex": null,
            "flex_flow": null,
            "grid_area": null,
            "grid_auto_columns": null,
            "grid_auto_flow": null,
            "grid_auto_rows": null,
            "grid_column": null,
            "grid_gap": null,
            "grid_row": null,
            "grid_template_areas": null,
            "grid_template_columns": null,
            "grid_template_rows": null,
            "height": null,
            "justify_content": null,
            "justify_items": null,
            "left": null,
            "margin": null,
            "max_height": null,
            "max_width": null,
            "min_height": null,
            "min_width": null,
            "object_fit": null,
            "object_position": null,
            "order": null,
            "overflow": null,
            "overflow_x": null,
            "overflow_y": null,
            "padding": null,
            "right": null,
            "top": null,
            "visibility": null,
            "width": null
          }
        },
        "547ab25c947146c6be295df722ef5bec": {
          "model_module": "@jupyter-widgets/controls",
          "model_name": "CheckboxModel",
          "model_module_version": "1.5.0",
          "state": {
            "_dom_classes": [],
            "_model_module": "@jupyter-widgets/controls",
            "_model_module_version": "1.5.0",
            "_model_name": "CheckboxModel",
            "_view_count": null,
            "_view_module": "@jupyter-widgets/controls",
            "_view_module_version": "1.5.0",
            "_view_name": "CheckboxView",
            "description": "All layers on/off",
            "description_tooltip": null,
            "disabled": false,
            "indent": false,
            "layout": "IPY_MODEL_f98e72a57b6a49229eaa030772b2ab39",
            "style": "IPY_MODEL_bcf9910bafce4df69afd2093231f9494",
            "value": false
          }
        },
        "42ccc8b93a474307983a6290edbf7120": {
          "model_module": "@jupyter-widgets/controls",
          "model_name": "HBoxModel",
          "model_module_version": "1.5.0",
          "state": {
            "_dom_classes": [],
            "_model_module": "@jupyter-widgets/controls",
            "_model_module_version": "1.5.0",
            "_model_name": "HBoxModel",
            "_view_count": null,
            "_view_module": "@jupyter-widgets/controls",
            "_view_module_version": "1.5.0",
            "_view_name": "HBoxView",
            "box_style": "",
            "children": [
              "IPY_MODEL_38dbbdc03ca4490d8630ceee2f08683d",
              "IPY_MODEL_a49aee56a36b40d085122452b8a9a8cc",
              "IPY_MODEL_e05317b02b634b15992e91ec1c8f4fb3",
              "IPY_MODEL_4e26c50659cc419eaeb36a45266ca49e"
            ],
            "layout": "IPY_MODEL_410ecce204034c53a77ef6687c15822f"
          }
        },
        "0cc96b7152564716822e3c7744c6b902": {
          "model_module": "@jupyter-widgets/controls",
          "model_name": "HBoxModel",
          "model_module_version": "1.5.0",
          "state": {
            "_dom_classes": [],
            "_model_module": "@jupyter-widgets/controls",
            "_model_module_version": "1.5.0",
            "_model_name": "HBoxModel",
            "_view_count": null,
            "_view_module": "@jupyter-widgets/controls",
            "_view_module_version": "1.5.0",
            "_view_name": "HBoxView",
            "box_style": "",
            "children": [
              "IPY_MODEL_fab85c13f45846d09b48a116378a53ca",
              "IPY_MODEL_b6233c7ab07a4f989eaf8ce9228f86f0",
              "IPY_MODEL_9469df044d60422ebc675caa335d060c",
              "IPY_MODEL_fd8b3910310f42608c159c84ad74cd1e"
            ],
            "layout": "IPY_MODEL_9feb559f25ed4fdc822a688c4e9110ae"
          }
        },
        "82c73afed1ae45abbff56625ed494051": {
          "model_module": "@jupyter-widgets/controls",
          "model_name": "HBoxModel",
          "model_module_version": "1.5.0",
          "state": {
            "_dom_classes": [],
            "_model_module": "@jupyter-widgets/controls",
            "_model_module_version": "1.5.0",
            "_model_name": "HBoxModel",
            "_view_count": null,
            "_view_module": "@jupyter-widgets/controls",
            "_view_module_version": "1.5.0",
            "_view_name": "HBoxView",
            "box_style": "",
            "children": [
              "IPY_MODEL_9e88e6479ffe4f9ca4673381bd32fa17",
              "IPY_MODEL_c6c7d7d6d0fd46eaac504486c35284cf",
              "IPY_MODEL_189f5a0e913b4efc804b0f8971d3eefe",
              "IPY_MODEL_7c726fff8777423f94c00ee1d79e58cb"
            ],
            "layout": "IPY_MODEL_76d31bdee74b4fcebbd7bc0de0115660"
          }
        },
        "e9df81c60e0a4e189aa400f13a161c58": {
          "model_module": "@jupyter-widgets/base",
          "model_name": "LayoutModel",
          "model_module_version": "1.2.0",
          "state": {
            "_model_module": "@jupyter-widgets/base",
            "_model_module_version": "1.2.0",
            "_model_name": "LayoutModel",
            "_view_count": null,
            "_view_module": "@jupyter-widgets/base",
            "_view_module_version": "1.2.0",
            "_view_name": "LayoutView",
            "align_content": null,
            "align_items": null,
            "align_self": null,
            "border": null,
            "bottom": null,
            "display": null,
            "flex": null,
            "flex_flow": null,
            "grid_area": null,
            "grid_auto_columns": null,
            "grid_auto_flow": null,
            "grid_auto_rows": null,
            "grid_column": null,
            "grid_gap": null,
            "grid_row": null,
            "grid_template_areas": null,
            "grid_template_columns": null,
            "grid_template_rows": null,
            "height": null,
            "justify_content": null,
            "justify_items": null,
            "left": null,
            "margin": null,
            "max_height": null,
            "max_width": null,
            "min_height": null,
            "min_width": null,
            "object_fit": null,
            "object_position": null,
            "order": null,
            "overflow": null,
            "overflow_x": null,
            "overflow_y": null,
            "padding": null,
            "right": null,
            "top": null,
            "visibility": null,
            "width": null
          }
        },
        "131e736a531e4239addf1f49819ed598": {
          "model_module": "@jupyter-widgets/base",
          "model_name": "LayoutModel",
          "model_module_version": "1.2.0",
          "state": {
            "_model_module": "@jupyter-widgets/base",
            "_model_module_version": "1.2.0",
            "_model_name": "LayoutModel",
            "_view_count": null,
            "_view_module": "@jupyter-widgets/base",
            "_view_module_version": "1.2.0",
            "_view_name": "LayoutView",
            "align_content": null,
            "align_items": null,
            "align_self": null,
            "border": null,
            "bottom": null,
            "display": null,
            "flex": null,
            "flex_flow": null,
            "grid_area": null,
            "grid_auto_columns": null,
            "grid_auto_flow": null,
            "grid_auto_rows": null,
            "grid_column": null,
            "grid_gap": null,
            "grid_row": null,
            "grid_template_areas": null,
            "grid_template_columns": null,
            "grid_template_rows": null,
            "height": "28px",
            "justify_content": null,
            "justify_items": null,
            "left": null,
            "margin": null,
            "max_height": null,
            "max_width": null,
            "min_height": null,
            "min_width": null,
            "object_fit": null,
            "object_position": null,
            "order": null,
            "overflow": null,
            "overflow_x": null,
            "overflow_y": null,
            "padding": "0px",
            "right": null,
            "top": null,
            "visibility": null,
            "width": "28px"
          }
        },
        "700b3fd623894c829944b0463ba0924f": {
          "model_module": "@jupyter-widgets/controls",
          "model_name": "ButtonStyleModel",
          "model_module_version": "1.5.0",
          "state": {
            "_model_module": "@jupyter-widgets/controls",
            "_model_module_version": "1.5.0",
            "_model_name": "ButtonStyleModel",
            "_view_count": null,
            "_view_module": "@jupyter-widgets/base",
            "_view_module_version": "1.2.0",
            "_view_name": "StyleView",
            "button_color": null,
            "font_weight": ""
          }
        },
        "0d3a4adbf8184c48b6b9ad693d3fd780": {
          "model_module": "@jupyter-widgets/base",
          "model_name": "LayoutModel",
          "model_module_version": "1.2.0",
          "state": {
            "_model_module": "@jupyter-widgets/base",
            "_model_module_version": "1.2.0",
            "_model_name": "LayoutModel",
            "_view_count": null,
            "_view_module": "@jupyter-widgets/base",
            "_view_module_version": "1.2.0",
            "_view_name": "LayoutView",
            "align_content": null,
            "align_items": null,
            "align_self": null,
            "border": null,
            "bottom": null,
            "display": null,
            "flex": null,
            "flex_flow": null,
            "grid_area": null,
            "grid_auto_columns": null,
            "grid_auto_flow": null,
            "grid_auto_rows": null,
            "grid_column": null,
            "grid_gap": null,
            "grid_row": null,
            "grid_template_areas": null,
            "grid_template_columns": null,
            "grid_template_rows": null,
            "height": "28px",
            "justify_content": null,
            "justify_items": null,
            "left": null,
            "margin": null,
            "max_height": null,
            "max_width": null,
            "min_height": null,
            "min_width": null,
            "object_fit": null,
            "object_position": null,
            "order": null,
            "overflow": null,
            "overflow_x": null,
            "overflow_y": null,
            "padding": "0px 0px 0px 4px",
            "right": null,
            "top": null,
            "visibility": null,
            "width": "28px"
          }
        },
        "48c037d8c6514e37bcad4d06f5762276": {
          "model_module": "@jupyter-widgets/controls",
          "model_name": "DescriptionStyleModel",
          "model_module_version": "1.5.0",
          "state": {
            "_model_module": "@jupyter-widgets/controls",
            "_model_module_version": "1.5.0",
            "_model_name": "DescriptionStyleModel",
            "_view_count": null,
            "_view_module": "@jupyter-widgets/base",
            "_view_module_version": "1.2.0",
            "_view_name": "StyleView",
            "description_width": ""
          }
        },
        "f98e72a57b6a49229eaa030772b2ab39": {
          "model_module": "@jupyter-widgets/base",
          "model_name": "LayoutModel",
          "model_module_version": "1.2.0",
          "state": {
            "_model_module": "@jupyter-widgets/base",
            "_model_module_version": "1.2.0",
            "_model_name": "LayoutModel",
            "_view_count": null,
            "_view_module": "@jupyter-widgets/base",
            "_view_module_version": "1.2.0",
            "_view_name": "LayoutView",
            "align_content": null,
            "align_items": null,
            "align_self": null,
            "border": null,
            "bottom": null,
            "display": null,
            "flex": null,
            "flex_flow": null,
            "grid_area": null,
            "grid_auto_columns": null,
            "grid_auto_flow": null,
            "grid_auto_rows": null,
            "grid_column": null,
            "grid_gap": null,
            "grid_row": null,
            "grid_template_areas": null,
            "grid_template_columns": null,
            "grid_template_rows": null,
            "height": "18px",
            "justify_content": null,
            "justify_items": null,
            "left": null,
            "margin": null,
            "max_height": null,
            "max_width": null,
            "min_height": null,
            "min_width": null,
            "object_fit": null,
            "object_position": null,
            "order": null,
            "overflow": null,
            "overflow_x": null,
            "overflow_y": null,
            "padding": "0px 4px 25px 4px",
            "right": null,
            "top": null,
            "visibility": null,
            "width": "30ex"
          }
        },
        "bcf9910bafce4df69afd2093231f9494": {
          "model_module": "@jupyter-widgets/controls",
          "model_name": "DescriptionStyleModel",
          "model_module_version": "1.5.0",
          "state": {
            "_model_module": "@jupyter-widgets/controls",
            "_model_module_version": "1.5.0",
            "_model_name": "DescriptionStyleModel",
            "_view_count": null,
            "_view_module": "@jupyter-widgets/base",
            "_view_module_version": "1.2.0",
            "_view_name": "StyleView",
            "description_width": ""
          }
        },
        "38dbbdc03ca4490d8630ceee2f08683d": {
          "model_module": "@jupyter-widgets/controls",
          "model_name": "CheckboxModel",
          "model_module_version": "1.5.0",
          "state": {
            "_dom_classes": [],
            "_model_module": "@jupyter-widgets/controls",
            "_model_module_version": "1.5.0",
            "_model_name": "CheckboxModel",
            "_view_count": null,
            "_view_module": "@jupyter-widgets/controls",
            "_view_module_version": "1.5.0",
            "_view_name": "CheckboxView",
            "description": "CartoDB.DarkMatter",
            "description_tooltip": null,
            "disabled": false,
            "indent": false,
            "layout": "IPY_MODEL_9ce10b3885d24a73a2ece4cb3fb9d30a",
            "style": "IPY_MODEL_b12d0c95b52b4bf79c8408b98199d060",
            "value": true
          }
        },
        "a49aee56a36b40d085122452b8a9a8cc": {
          "model_module": "@jupyter-widgets/controls",
          "model_name": "FloatSliderModel",
          "model_module_version": "1.5.0",
          "state": {
            "_dom_classes": [],
            "_model_module": "@jupyter-widgets/controls",
            "_model_module_version": "1.5.0",
            "_model_name": "FloatSliderModel",
            "_view_count": null,
            "_view_module": "@jupyter-widgets/controls",
            "_view_module_version": "1.5.0",
            "_view_name": "FloatSliderView",
            "continuous_update": true,
            "description": "",
            "description_tooltip": null,
            "disabled": false,
            "layout": "IPY_MODEL_52f11e87fe9c49308e2256237c7c6098",
            "max": 1,
            "min": 0,
            "orientation": "horizontal",
            "readout": false,
            "readout_format": ".2f",
            "step": 0.01,
            "style": "IPY_MODEL_024df35e629742a9ae5209e39939c34d",
            "value": 1
          }
        },
        "e05317b02b634b15992e91ec1c8f4fb3": {
          "model_module": "@jupyter-widgets/controls",
          "model_name": "ButtonModel",
          "model_module_version": "1.5.0",
          "state": {
            "_dom_classes": [],
            "_model_module": "@jupyter-widgets/controls",
            "_model_module_version": "1.5.0",
            "_model_name": "ButtonModel",
            "_view_count": null,
            "_view_module": "@jupyter-widgets/controls",
            "_view_module_version": "1.5.0",
            "_view_name": "ButtonView",
            "button_style": "",
            "description": "",
            "disabled": false,
            "icon": "gear",
            "layout": "IPY_MODEL_ffdfbacf015d4e3898bf28287e0d5e34",
            "style": "IPY_MODEL_00f723b0f5024092813171a4a18c3b9a",
            "tooltip": "CartoDB.DarkMatter"
          }
        },
        "4e26c50659cc419eaeb36a45266ca49e": {
          "model_module": "@jupyter-widgets/controls",
          "model_name": "ButtonModel",
          "model_module_version": "1.5.0",
          "state": {
            "_dom_classes": [],
            "_model_module": "@jupyter-widgets/controls",
            "_model_module_version": "1.5.0",
            "_model_name": "ButtonModel",
            "_view_count": null,
            "_view_module": "@jupyter-widgets/controls",
            "_view_module_version": "1.5.0",
            "_view_name": "ButtonView",
            "button_style": "",
            "description": "",
            "disabled": false,
            "icon": "times",
            "layout": "IPY_MODEL_8fb37e2f06d8468eac94e18000c4c1e1",
            "style": "IPY_MODEL_ece8742a15c648408076bda66a4ac273",
            "tooltip": "Loaded"
          }
        },
        "410ecce204034c53a77ef6687c15822f": {
          "model_module": "@jupyter-widgets/base",
          "model_name": "LayoutModel",
          "model_module_version": "1.2.0",
          "state": {
            "_model_module": "@jupyter-widgets/base",
            "_model_module_version": "1.2.0",
            "_model_name": "LayoutModel",
            "_view_count": null,
            "_view_module": "@jupyter-widgets/base",
            "_view_module_version": "1.2.0",
            "_view_name": "LayoutView",
            "align_content": null,
            "align_items": null,
            "align_self": null,
            "border": null,
            "bottom": null,
            "display": null,
            "flex": null,
            "flex_flow": null,
            "grid_area": null,
            "grid_auto_columns": null,
            "grid_auto_flow": null,
            "grid_auto_rows": null,
            "grid_column": null,
            "grid_gap": null,
            "grid_row": null,
            "grid_template_areas": null,
            "grid_template_columns": null,
            "grid_template_rows": null,
            "height": null,
            "justify_content": null,
            "justify_items": null,
            "left": null,
            "margin": null,
            "max_height": null,
            "max_width": null,
            "min_height": null,
            "min_width": null,
            "object_fit": null,
            "object_position": null,
            "order": null,
            "overflow": null,
            "overflow_x": null,
            "overflow_y": null,
            "padding": "0px 4px 0px 4px",
            "right": null,
            "top": null,
            "visibility": null,
            "width": null
          }
        },
        "fab85c13f45846d09b48a116378a53ca": {
          "model_module": "@jupyter-widgets/controls",
          "model_name": "CheckboxModel",
          "model_module_version": "1.5.0",
          "state": {
            "_dom_classes": [],
            "_model_module": "@jupyter-widgets/controls",
            "_model_module_version": "1.5.0",
            "_model_name": "CheckboxModel",
            "_view_count": null,
            "_view_module": "@jupyter-widgets/controls",
            "_view_module_version": "1.5.0",
            "_view_name": "CheckboxView",
            "description": "CartoDB.Positron",
            "description_tooltip": null,
            "disabled": false,
            "indent": false,
            "layout": "IPY_MODEL_d008fa31a0ce48e4ab32583ac47d117a",
            "style": "IPY_MODEL_0372e4d766bd414793a18520de60782e",
            "value": false
          }
        },
        "b6233c7ab07a4f989eaf8ce9228f86f0": {
          "model_module": "@jupyter-widgets/controls",
          "model_name": "FloatSliderModel",
          "model_module_version": "1.5.0",
          "state": {
            "_dom_classes": [],
            "_model_module": "@jupyter-widgets/controls",
            "_model_module_version": "1.5.0",
            "_model_name": "FloatSliderModel",
            "_view_count": null,
            "_view_module": "@jupyter-widgets/controls",
            "_view_module_version": "1.5.0",
            "_view_name": "FloatSliderView",
            "continuous_update": true,
            "description": "",
            "description_tooltip": null,
            "disabled": false,
            "layout": "IPY_MODEL_59a5c23cf5ab46b391d9d9d6f7c1827c",
            "max": 1,
            "min": 0,
            "orientation": "horizontal",
            "readout": false,
            "readout_format": ".2f",
            "step": 0.01,
            "style": "IPY_MODEL_0f8241b9bfc7408795c27801a57fd616",
            "value": 1
          }
        },
        "9469df044d60422ebc675caa335d060c": {
          "model_module": "@jupyter-widgets/controls",
          "model_name": "ButtonModel",
          "model_module_version": "1.5.0",
          "state": {
            "_dom_classes": [],
            "_model_module": "@jupyter-widgets/controls",
            "_model_module_version": "1.5.0",
            "_model_name": "ButtonModel",
            "_view_count": null,
            "_view_module": "@jupyter-widgets/controls",
            "_view_module_version": "1.5.0",
            "_view_name": "ButtonView",
            "button_style": "",
            "description": "",
            "disabled": false,
            "icon": "gear",
            "layout": "IPY_MODEL_17e42b743e084b2da52e7c21999e38df",
            "style": "IPY_MODEL_c56a823a7aea4cac8dfe152656673210",
            "tooltip": "CartoDB.Positron"
          }
        },
        "fd8b3910310f42608c159c84ad74cd1e": {
          "model_module": "@jupyter-widgets/controls",
          "model_name": "ButtonModel",
          "model_module_version": "1.5.0",
          "state": {
            "_dom_classes": [],
            "_model_module": "@jupyter-widgets/controls",
            "_model_module_version": "1.5.0",
            "_model_name": "ButtonModel",
            "_view_count": null,
            "_view_module": "@jupyter-widgets/controls",
            "_view_module_version": "1.5.0",
            "_view_name": "ButtonView",
            "button_style": "",
            "description": "",
            "disabled": false,
            "icon": "times",
            "layout": "IPY_MODEL_19f083d2836944a5a5a621eb34d82208",
            "style": "IPY_MODEL_96b265be96624822aaac7f46055dcbf8",
            "tooltip": "Loaded"
          }
        },
        "9feb559f25ed4fdc822a688c4e9110ae": {
          "model_module": "@jupyter-widgets/base",
          "model_name": "LayoutModel",
          "model_module_version": "1.2.0",
          "state": {
            "_model_module": "@jupyter-widgets/base",
            "_model_module_version": "1.2.0",
            "_model_name": "LayoutModel",
            "_view_count": null,
            "_view_module": "@jupyter-widgets/base",
            "_view_module_version": "1.2.0",
            "_view_name": "LayoutView",
            "align_content": null,
            "align_items": null,
            "align_self": null,
            "border": null,
            "bottom": null,
            "display": null,
            "flex": null,
            "flex_flow": null,
            "grid_area": null,
            "grid_auto_columns": null,
            "grid_auto_flow": null,
            "grid_auto_rows": null,
            "grid_column": null,
            "grid_gap": null,
            "grid_row": null,
            "grid_template_areas": null,
            "grid_template_columns": null,
            "grid_template_rows": null,
            "height": null,
            "justify_content": null,
            "justify_items": null,
            "left": null,
            "margin": null,
            "max_height": null,
            "max_width": null,
            "min_height": null,
            "min_width": null,
            "object_fit": null,
            "object_position": null,
            "order": null,
            "overflow": null,
            "overflow_x": null,
            "overflow_y": null,
            "padding": "0px 4px 0px 4px",
            "right": null,
            "top": null,
            "visibility": null,
            "width": null
          }
        },
        "9e88e6479ffe4f9ca4673381bd32fa17": {
          "model_module": "@jupyter-widgets/controls",
          "model_name": "CheckboxModel",
          "model_module_version": "1.5.0",
          "state": {
            "_dom_classes": [],
            "_model_module": "@jupyter-widgets/controls",
            "_model_module_version": "1.5.0",
            "_model_name": "CheckboxModel",
            "_view_count": null,
            "_view_module": "@jupyter-widgets/controls",
            "_view_module_version": "1.5.0",
            "_view_name": "CheckboxView",
            "description": "Historic floods",
            "description_tooltip": null,
            "disabled": false,
            "indent": false,
            "layout": "IPY_MODEL_f809e922400f41f6a502ed8d6f29d793",
            "style": "IPY_MODEL_0bb67915b3154036abf474f1bf781a1b",
            "value": true
          }
        },
        "c6c7d7d6d0fd46eaac504486c35284cf": {
          "model_module": "@jupyter-widgets/controls",
          "model_name": "FloatSliderModel",
          "model_module_version": "1.5.0",
          "state": {
            "_dom_classes": [],
            "_model_module": "@jupyter-widgets/controls",
            "_model_module_version": "1.5.0",
            "_model_name": "FloatSliderModel",
            "_view_count": null,
            "_view_module": "@jupyter-widgets/controls",
            "_view_module_version": "1.5.0",
            "_view_name": "FloatSliderView",
            "continuous_update": true,
            "description": "",
            "description_tooltip": null,
            "disabled": false,
            "layout": "IPY_MODEL_5237e801782040ceb7440689a0c9a124",
            "max": 1,
            "min": 0,
            "orientation": "horizontal",
            "readout": false,
            "readout_format": ".2f",
            "step": 0.01,
            "style": "IPY_MODEL_73e54a9cf859402c8855234d01016ae5",
            "value": 1
          }
        },
        "189f5a0e913b4efc804b0f8971d3eefe": {
          "model_module": "@jupyter-widgets/controls",
          "model_name": "ButtonModel",
          "model_module_version": "1.5.0",
          "state": {
            "_dom_classes": [],
            "_model_module": "@jupyter-widgets/controls",
            "_model_module_version": "1.5.0",
            "_model_name": "ButtonModel",
            "_view_count": null,
            "_view_module": "@jupyter-widgets/controls",
            "_view_module_version": "1.5.0",
            "_view_name": "ButtonView",
            "button_style": "",
            "description": "",
            "disabled": false,
            "icon": "gear",
            "layout": "IPY_MODEL_b15830adf8c04314b37b8ae08c1354a9",
            "style": "IPY_MODEL_ccc9d3108c1f4b8298d19ad3f96e4378",
            "tooltip": "Historic floods"
          }
        },
        "7c726fff8777423f94c00ee1d79e58cb": {
          "model_module": "@jupyter-widgets/controls",
          "model_name": "ButtonModel",
          "model_module_version": "1.5.0",
          "state": {
            "_dom_classes": [],
            "_model_module": "@jupyter-widgets/controls",
            "_model_module_version": "1.5.0",
            "_model_name": "ButtonModel",
            "_view_count": null,
            "_view_module": "@jupyter-widgets/controls",
            "_view_module_version": "1.5.0",
            "_view_name": "ButtonView",
            "button_style": "",
            "description": "",
            "disabled": false,
            "icon": "times",
            "layout": "IPY_MODEL_fdb8240f893e4e82b353b8f2a6a6a2b2",
            "style": "IPY_MODEL_9a7433a017d3442f8d709564e1b735fa",
            "tooltip": "Loaded"
          }
        },
        "76d31bdee74b4fcebbd7bc0de0115660": {
          "model_module": "@jupyter-widgets/base",
          "model_name": "LayoutModel",
          "model_module_version": "1.2.0",
          "state": {
            "_model_module": "@jupyter-widgets/base",
            "_model_module_version": "1.2.0",
            "_model_name": "LayoutModel",
            "_view_count": null,
            "_view_module": "@jupyter-widgets/base",
            "_view_module_version": "1.2.0",
            "_view_name": "LayoutView",
            "align_content": null,
            "align_items": null,
            "align_self": null,
            "border": null,
            "bottom": null,
            "display": null,
            "flex": null,
            "flex_flow": null,
            "grid_area": null,
            "grid_auto_columns": null,
            "grid_auto_flow": null,
            "grid_auto_rows": null,
            "grid_column": null,
            "grid_gap": null,
            "grid_row": null,
            "grid_template_areas": null,
            "grid_template_columns": null,
            "grid_template_rows": null,
            "height": null,
            "justify_content": null,
            "justify_items": null,
            "left": null,
            "margin": null,
            "max_height": null,
            "max_width": null,
            "min_height": null,
            "min_width": null,
            "object_fit": null,
            "object_position": null,
            "order": null,
            "overflow": null,
            "overflow_x": null,
            "overflow_y": null,
            "padding": "0px 4px 0px 4px",
            "right": null,
            "top": null,
            "visibility": null,
            "width": null
          }
        },
        "9ce10b3885d24a73a2ece4cb3fb9d30a": {
          "model_module": "@jupyter-widgets/base",
          "model_name": "LayoutModel",
          "model_module_version": "1.2.0",
          "state": {
            "_model_module": "@jupyter-widgets/base",
            "_model_module_version": "1.2.0",
            "_model_name": "LayoutModel",
            "_view_count": null,
            "_view_module": "@jupyter-widgets/base",
            "_view_module_version": "1.2.0",
            "_view_name": "LayoutView",
            "align_content": null,
            "align_items": null,
            "align_self": null,
            "border": null,
            "bottom": null,
            "display": null,
            "flex": null,
            "flex_flow": null,
            "grid_area": null,
            "grid_auto_columns": null,
            "grid_auto_flow": null,
            "grid_auto_rows": null,
            "grid_column": null,
            "grid_gap": null,
            "grid_row": null,
            "grid_template_areas": null,
            "grid_template_columns": null,
            "grid_template_rows": null,
            "height": "18px",
            "justify_content": null,
            "justify_items": null,
            "left": null,
            "margin": null,
            "max_height": null,
            "max_width": null,
            "min_height": null,
            "min_width": null,
            "object_fit": null,
            "object_position": null,
            "order": null,
            "overflow": null,
            "overflow_x": null,
            "overflow_y": null,
            "padding": null,
            "right": null,
            "top": null,
            "visibility": null,
            "width": "140px"
          }
        },
        "b12d0c95b52b4bf79c8408b98199d060": {
          "model_module": "@jupyter-widgets/controls",
          "model_name": "DescriptionStyleModel",
          "model_module_version": "1.5.0",
          "state": {
            "_model_module": "@jupyter-widgets/controls",
            "_model_module_version": "1.5.0",
            "_model_name": "DescriptionStyleModel",
            "_view_count": null,
            "_view_module": "@jupyter-widgets/base",
            "_view_module_version": "1.2.0",
            "_view_name": "StyleView",
            "description_width": ""
          }
        },
        "52f11e87fe9c49308e2256237c7c6098": {
          "model_module": "@jupyter-widgets/base",
          "model_name": "LayoutModel",
          "model_module_version": "1.2.0",
          "state": {
            "_model_module": "@jupyter-widgets/base",
            "_model_module_version": "1.2.0",
            "_model_name": "LayoutModel",
            "_view_count": null,
            "_view_module": "@jupyter-widgets/base",
            "_view_module_version": "1.2.0",
            "_view_name": "LayoutView",
            "align_content": null,
            "align_items": null,
            "align_self": null,
            "border": null,
            "bottom": null,
            "display": null,
            "flex": null,
            "flex_flow": null,
            "grid_area": null,
            "grid_auto_columns": null,
            "grid_auto_flow": null,
            "grid_auto_rows": null,
            "grid_column": null,
            "grid_gap": null,
            "grid_row": null,
            "grid_template_areas": null,
            "grid_template_columns": null,
            "grid_template_rows": null,
            "height": null,
            "justify_content": null,
            "justify_items": null,
            "left": null,
            "margin": null,
            "max_height": null,
            "max_width": null,
            "min_height": null,
            "min_width": null,
            "object_fit": null,
            "object_position": null,
            "order": null,
            "overflow": null,
            "overflow_x": null,
            "overflow_y": null,
            "padding": "0px 3px 0px 0px",
            "right": null,
            "top": null,
            "visibility": null,
            "width": "70px"
          }
        },
        "024df35e629742a9ae5209e39939c34d": {
          "model_module": "@jupyter-widgets/controls",
          "model_name": "SliderStyleModel",
          "model_module_version": "1.5.0",
          "state": {
            "_model_module": "@jupyter-widgets/controls",
            "_model_module_version": "1.5.0",
            "_model_name": "SliderStyleModel",
            "_view_count": null,
            "_view_module": "@jupyter-widgets/base",
            "_view_module_version": "1.2.0",
            "_view_name": "StyleView",
            "description_width": "",
            "handle_color": null
          }
        },
        "ffdfbacf015d4e3898bf28287e0d5e34": {
          "model_module": "@jupyter-widgets/base",
          "model_name": "LayoutModel",
          "model_module_version": "1.2.0",
          "state": {
            "_model_module": "@jupyter-widgets/base",
            "_model_module_version": "1.2.0",
            "_model_name": "LayoutModel",
            "_view_count": null,
            "_view_module": "@jupyter-widgets/base",
            "_view_module_version": "1.2.0",
            "_view_name": "LayoutView",
            "align_content": null,
            "align_items": null,
            "align_self": null,
            "border": null,
            "bottom": null,
            "display": null,
            "flex": null,
            "flex_flow": null,
            "grid_area": null,
            "grid_auto_columns": null,
            "grid_auto_flow": null,
            "grid_auto_rows": null,
            "grid_column": null,
            "grid_gap": null,
            "grid_row": null,
            "grid_template_areas": null,
            "grid_template_columns": null,
            "grid_template_rows": null,
            "height": "25px",
            "justify_content": null,
            "justify_items": null,
            "left": null,
            "margin": null,
            "max_height": null,
            "max_width": null,
            "min_height": null,
            "min_width": null,
            "object_fit": null,
            "object_position": null,
            "order": null,
            "overflow": null,
            "overflow_x": null,
            "overflow_y": null,
            "padding": "0px",
            "right": null,
            "top": null,
            "visibility": null,
            "width": "25px"
          }
        },
        "00f723b0f5024092813171a4a18c3b9a": {
          "model_module": "@jupyter-widgets/controls",
          "model_name": "ButtonStyleModel",
          "model_module_version": "1.5.0",
          "state": {
            "_model_module": "@jupyter-widgets/controls",
            "_model_module_version": "1.5.0",
            "_model_name": "ButtonStyleModel",
            "_view_count": null,
            "_view_module": "@jupyter-widgets/base",
            "_view_module_version": "1.2.0",
            "_view_name": "StyleView",
            "button_color": null,
            "font_weight": ""
          }
        },
        "8fb37e2f06d8468eac94e18000c4c1e1": {
          "model_module": "@jupyter-widgets/base",
          "model_name": "LayoutModel",
          "model_module_version": "1.2.0",
          "state": {
            "_model_module": "@jupyter-widgets/base",
            "_model_module_version": "1.2.0",
            "_model_name": "LayoutModel",
            "_view_count": null,
            "_view_module": "@jupyter-widgets/base",
            "_view_module_version": "1.2.0",
            "_view_name": "LayoutView",
            "align_content": null,
            "align_items": null,
            "align_self": null,
            "border": null,
            "bottom": null,
            "display": null,
            "flex": null,
            "flex_flow": null,
            "grid_area": null,
            "grid_auto_columns": null,
            "grid_auto_flow": null,
            "grid_auto_rows": null,
            "grid_column": null,
            "grid_gap": null,
            "grid_row": null,
            "grid_template_areas": null,
            "grid_template_columns": null,
            "grid_template_rows": null,
            "height": "25px",
            "justify_content": null,
            "justify_items": null,
            "left": null,
            "margin": null,
            "max_height": null,
            "max_width": null,
            "min_height": null,
            "min_width": null,
            "object_fit": null,
            "object_position": null,
            "order": null,
            "overflow": null,
            "overflow_x": null,
            "overflow_y": null,
            "padding": "0px",
            "right": null,
            "top": null,
            "visibility": null,
            "width": "25px"
          }
        },
        "ece8742a15c648408076bda66a4ac273": {
          "model_module": "@jupyter-widgets/controls",
          "model_name": "ButtonStyleModel",
          "model_module_version": "1.5.0",
          "state": {
            "_model_module": "@jupyter-widgets/controls",
            "_model_module_version": "1.5.0",
            "_model_name": "ButtonStyleModel",
            "_view_count": null,
            "_view_module": "@jupyter-widgets/base",
            "_view_module_version": "1.2.0",
            "_view_name": "StyleView",
            "button_color": null,
            "font_weight": ""
          }
        },
        "d008fa31a0ce48e4ab32583ac47d117a": {
          "model_module": "@jupyter-widgets/base",
          "model_name": "LayoutModel",
          "model_module_version": "1.2.0",
          "state": {
            "_model_module": "@jupyter-widgets/base",
            "_model_module_version": "1.2.0",
            "_model_name": "LayoutModel",
            "_view_count": null,
            "_view_module": "@jupyter-widgets/base",
            "_view_module_version": "1.2.0",
            "_view_name": "LayoutView",
            "align_content": null,
            "align_items": null,
            "align_self": null,
            "border": null,
            "bottom": null,
            "display": null,
            "flex": null,
            "flex_flow": null,
            "grid_area": null,
            "grid_auto_columns": null,
            "grid_auto_flow": null,
            "grid_auto_rows": null,
            "grid_column": null,
            "grid_gap": null,
            "grid_row": null,
            "grid_template_areas": null,
            "grid_template_columns": null,
            "grid_template_rows": null,
            "height": "18px",
            "justify_content": null,
            "justify_items": null,
            "left": null,
            "margin": null,
            "max_height": null,
            "max_width": null,
            "min_height": null,
            "min_width": null,
            "object_fit": null,
            "object_position": null,
            "order": null,
            "overflow": null,
            "overflow_x": null,
            "overflow_y": null,
            "padding": null,
            "right": null,
            "top": null,
            "visibility": null,
            "width": "140px"
          }
        },
        "0372e4d766bd414793a18520de60782e": {
          "model_module": "@jupyter-widgets/controls",
          "model_name": "DescriptionStyleModel",
          "model_module_version": "1.5.0",
          "state": {
            "_model_module": "@jupyter-widgets/controls",
            "_model_module_version": "1.5.0",
            "_model_name": "DescriptionStyleModel",
            "_view_count": null,
            "_view_module": "@jupyter-widgets/base",
            "_view_module_version": "1.2.0",
            "_view_name": "StyleView",
            "description_width": ""
          }
        },
        "59a5c23cf5ab46b391d9d9d6f7c1827c": {
          "model_module": "@jupyter-widgets/base",
          "model_name": "LayoutModel",
          "model_module_version": "1.2.0",
          "state": {
            "_model_module": "@jupyter-widgets/base",
            "_model_module_version": "1.2.0",
            "_model_name": "LayoutModel",
            "_view_count": null,
            "_view_module": "@jupyter-widgets/base",
            "_view_module_version": "1.2.0",
            "_view_name": "LayoutView",
            "align_content": null,
            "align_items": null,
            "align_self": null,
            "border": null,
            "bottom": null,
            "display": null,
            "flex": null,
            "flex_flow": null,
            "grid_area": null,
            "grid_auto_columns": null,
            "grid_auto_flow": null,
            "grid_auto_rows": null,
            "grid_column": null,
            "grid_gap": null,
            "grid_row": null,
            "grid_template_areas": null,
            "grid_template_columns": null,
            "grid_template_rows": null,
            "height": null,
            "justify_content": null,
            "justify_items": null,
            "left": null,
            "margin": null,
            "max_height": null,
            "max_width": null,
            "min_height": null,
            "min_width": null,
            "object_fit": null,
            "object_position": null,
            "order": null,
            "overflow": null,
            "overflow_x": null,
            "overflow_y": null,
            "padding": "0px 3px 0px 0px",
            "right": null,
            "top": null,
            "visibility": null,
            "width": "70px"
          }
        },
        "0f8241b9bfc7408795c27801a57fd616": {
          "model_module": "@jupyter-widgets/controls",
          "model_name": "SliderStyleModel",
          "model_module_version": "1.5.0",
          "state": {
            "_model_module": "@jupyter-widgets/controls",
            "_model_module_version": "1.5.0",
            "_model_name": "SliderStyleModel",
            "_view_count": null,
            "_view_module": "@jupyter-widgets/base",
            "_view_module_version": "1.2.0",
            "_view_name": "StyleView",
            "description_width": "",
            "handle_color": null
          }
        },
        "17e42b743e084b2da52e7c21999e38df": {
          "model_module": "@jupyter-widgets/base",
          "model_name": "LayoutModel",
          "model_module_version": "1.2.0",
          "state": {
            "_model_module": "@jupyter-widgets/base",
            "_model_module_version": "1.2.0",
            "_model_name": "LayoutModel",
            "_view_count": null,
            "_view_module": "@jupyter-widgets/base",
            "_view_module_version": "1.2.0",
            "_view_name": "LayoutView",
            "align_content": null,
            "align_items": null,
            "align_self": null,
            "border": null,
            "bottom": null,
            "display": null,
            "flex": null,
            "flex_flow": null,
            "grid_area": null,
            "grid_auto_columns": null,
            "grid_auto_flow": null,
            "grid_auto_rows": null,
            "grid_column": null,
            "grid_gap": null,
            "grid_row": null,
            "grid_template_areas": null,
            "grid_template_columns": null,
            "grid_template_rows": null,
            "height": "25px",
            "justify_content": null,
            "justify_items": null,
            "left": null,
            "margin": null,
            "max_height": null,
            "max_width": null,
            "min_height": null,
            "min_width": null,
            "object_fit": null,
            "object_position": null,
            "order": null,
            "overflow": null,
            "overflow_x": null,
            "overflow_y": null,
            "padding": "0px",
            "right": null,
            "top": null,
            "visibility": null,
            "width": "25px"
          }
        },
        "c56a823a7aea4cac8dfe152656673210": {
          "model_module": "@jupyter-widgets/controls",
          "model_name": "ButtonStyleModel",
          "model_module_version": "1.5.0",
          "state": {
            "_model_module": "@jupyter-widgets/controls",
            "_model_module_version": "1.5.0",
            "_model_name": "ButtonStyleModel",
            "_view_count": null,
            "_view_module": "@jupyter-widgets/base",
            "_view_module_version": "1.2.0",
            "_view_name": "StyleView",
            "button_color": null,
            "font_weight": ""
          }
        },
        "19f083d2836944a5a5a621eb34d82208": {
          "model_module": "@jupyter-widgets/base",
          "model_name": "LayoutModel",
          "model_module_version": "1.2.0",
          "state": {
            "_model_module": "@jupyter-widgets/base",
            "_model_module_version": "1.2.0",
            "_model_name": "LayoutModel",
            "_view_count": null,
            "_view_module": "@jupyter-widgets/base",
            "_view_module_version": "1.2.0",
            "_view_name": "LayoutView",
            "align_content": null,
            "align_items": null,
            "align_self": null,
            "border": null,
            "bottom": null,
            "display": null,
            "flex": null,
            "flex_flow": null,
            "grid_area": null,
            "grid_auto_columns": null,
            "grid_auto_flow": null,
            "grid_auto_rows": null,
            "grid_column": null,
            "grid_gap": null,
            "grid_row": null,
            "grid_template_areas": null,
            "grid_template_columns": null,
            "grid_template_rows": null,
            "height": "25px",
            "justify_content": null,
            "justify_items": null,
            "left": null,
            "margin": null,
            "max_height": null,
            "max_width": null,
            "min_height": null,
            "min_width": null,
            "object_fit": null,
            "object_position": null,
            "order": null,
            "overflow": null,
            "overflow_x": null,
            "overflow_y": null,
            "padding": "0px",
            "right": null,
            "top": null,
            "visibility": null,
            "width": "25px"
          }
        },
        "96b265be96624822aaac7f46055dcbf8": {
          "model_module": "@jupyter-widgets/controls",
          "model_name": "ButtonStyleModel",
          "model_module_version": "1.5.0",
          "state": {
            "_model_module": "@jupyter-widgets/controls",
            "_model_module_version": "1.5.0",
            "_model_name": "ButtonStyleModel",
            "_view_count": null,
            "_view_module": "@jupyter-widgets/base",
            "_view_module_version": "1.2.0",
            "_view_name": "StyleView",
            "button_color": null,
            "font_weight": ""
          }
        },
        "f809e922400f41f6a502ed8d6f29d793": {
          "model_module": "@jupyter-widgets/base",
          "model_name": "LayoutModel",
          "model_module_version": "1.2.0",
          "state": {
            "_model_module": "@jupyter-widgets/base",
            "_model_module_version": "1.2.0",
            "_model_name": "LayoutModel",
            "_view_count": null,
            "_view_module": "@jupyter-widgets/base",
            "_view_module_version": "1.2.0",
            "_view_name": "LayoutView",
            "align_content": null,
            "align_items": null,
            "align_self": null,
            "border": null,
            "bottom": null,
            "display": null,
            "flex": null,
            "flex_flow": null,
            "grid_area": null,
            "grid_auto_columns": null,
            "grid_auto_flow": null,
            "grid_auto_rows": null,
            "grid_column": null,
            "grid_gap": null,
            "grid_row": null,
            "grid_template_areas": null,
            "grid_template_columns": null,
            "grid_template_rows": null,
            "height": "18px",
            "justify_content": null,
            "justify_items": null,
            "left": null,
            "margin": null,
            "max_height": null,
            "max_width": null,
            "min_height": null,
            "min_width": null,
            "object_fit": null,
            "object_position": null,
            "order": null,
            "overflow": null,
            "overflow_x": null,
            "overflow_y": null,
            "padding": null,
            "right": null,
            "top": null,
            "visibility": null,
            "width": "140px"
          }
        },
        "0bb67915b3154036abf474f1bf781a1b": {
          "model_module": "@jupyter-widgets/controls",
          "model_name": "DescriptionStyleModel",
          "model_module_version": "1.5.0",
          "state": {
            "_model_module": "@jupyter-widgets/controls",
            "_model_module_version": "1.5.0",
            "_model_name": "DescriptionStyleModel",
            "_view_count": null,
            "_view_module": "@jupyter-widgets/base",
            "_view_module_version": "1.2.0",
            "_view_name": "StyleView",
            "description_width": ""
          }
        },
        "5237e801782040ceb7440689a0c9a124": {
          "model_module": "@jupyter-widgets/base",
          "model_name": "LayoutModel",
          "model_module_version": "1.2.0",
          "state": {
            "_model_module": "@jupyter-widgets/base",
            "_model_module_version": "1.2.0",
            "_model_name": "LayoutModel",
            "_view_count": null,
            "_view_module": "@jupyter-widgets/base",
            "_view_module_version": "1.2.0",
            "_view_name": "LayoutView",
            "align_content": null,
            "align_items": null,
            "align_self": null,
            "border": null,
            "bottom": null,
            "display": null,
            "flex": null,
            "flex_flow": null,
            "grid_area": null,
            "grid_auto_columns": null,
            "grid_auto_flow": null,
            "grid_auto_rows": null,
            "grid_column": null,
            "grid_gap": null,
            "grid_row": null,
            "grid_template_areas": null,
            "grid_template_columns": null,
            "grid_template_rows": null,
            "height": null,
            "justify_content": null,
            "justify_items": null,
            "left": null,
            "margin": null,
            "max_height": null,
            "max_width": null,
            "min_height": null,
            "min_width": null,
            "object_fit": null,
            "object_position": null,
            "order": null,
            "overflow": null,
            "overflow_x": null,
            "overflow_y": null,
            "padding": "0px 3px 0px 0px",
            "right": null,
            "top": null,
            "visibility": null,
            "width": "70px"
          }
        },
        "73e54a9cf859402c8855234d01016ae5": {
          "model_module": "@jupyter-widgets/controls",
          "model_name": "SliderStyleModel",
          "model_module_version": "1.5.0",
          "state": {
            "_model_module": "@jupyter-widgets/controls",
            "_model_module_version": "1.5.0",
            "_model_name": "SliderStyleModel",
            "_view_count": null,
            "_view_module": "@jupyter-widgets/base",
            "_view_module_version": "1.2.0",
            "_view_name": "StyleView",
            "description_width": "",
            "handle_color": null
          }
        },
        "b15830adf8c04314b37b8ae08c1354a9": {
          "model_module": "@jupyter-widgets/base",
          "model_name": "LayoutModel",
          "model_module_version": "1.2.0",
          "state": {
            "_model_module": "@jupyter-widgets/base",
            "_model_module_version": "1.2.0",
            "_model_name": "LayoutModel",
            "_view_count": null,
            "_view_module": "@jupyter-widgets/base",
            "_view_module_version": "1.2.0",
            "_view_name": "LayoutView",
            "align_content": null,
            "align_items": null,
            "align_self": null,
            "border": null,
            "bottom": null,
            "display": null,
            "flex": null,
            "flex_flow": null,
            "grid_area": null,
            "grid_auto_columns": null,
            "grid_auto_flow": null,
            "grid_auto_rows": null,
            "grid_column": null,
            "grid_gap": null,
            "grid_row": null,
            "grid_template_areas": null,
            "grid_template_columns": null,
            "grid_template_rows": null,
            "height": "25px",
            "justify_content": null,
            "justify_items": null,
            "left": null,
            "margin": null,
            "max_height": null,
            "max_width": null,
            "min_height": null,
            "min_width": null,
            "object_fit": null,
            "object_position": null,
            "order": null,
            "overflow": null,
            "overflow_x": null,
            "overflow_y": null,
            "padding": "0px",
            "right": null,
            "top": null,
            "visibility": null,
            "width": "25px"
          }
        },
        "ccc9d3108c1f4b8298d19ad3f96e4378": {
          "model_module": "@jupyter-widgets/controls",
          "model_name": "ButtonStyleModel",
          "model_module_version": "1.5.0",
          "state": {
            "_model_module": "@jupyter-widgets/controls",
            "_model_module_version": "1.5.0",
            "_model_name": "ButtonStyleModel",
            "_view_count": null,
            "_view_module": "@jupyter-widgets/base",
            "_view_module_version": "1.2.0",
            "_view_name": "StyleView",
            "button_color": null,
            "font_weight": ""
          }
        },
        "fdb8240f893e4e82b353b8f2a6a6a2b2": {
          "model_module": "@jupyter-widgets/base",
          "model_name": "LayoutModel",
          "model_module_version": "1.2.0",
          "state": {
            "_model_module": "@jupyter-widgets/base",
            "_model_module_version": "1.2.0",
            "_model_name": "LayoutModel",
            "_view_count": null,
            "_view_module": "@jupyter-widgets/base",
            "_view_module_version": "1.2.0",
            "_view_name": "LayoutView",
            "align_content": null,
            "align_items": null,
            "align_self": null,
            "border": null,
            "bottom": null,
            "display": null,
            "flex": null,
            "flex_flow": null,
            "grid_area": null,
            "grid_auto_columns": null,
            "grid_auto_flow": null,
            "grid_auto_rows": null,
            "grid_column": null,
            "grid_gap": null,
            "grid_row": null,
            "grid_template_areas": null,
            "grid_template_columns": null,
            "grid_template_rows": null,
            "height": "25px",
            "justify_content": null,
            "justify_items": null,
            "left": null,
            "margin": null,
            "max_height": null,
            "max_width": null,
            "min_height": null,
            "min_width": null,
            "object_fit": null,
            "object_position": null,
            "order": null,
            "overflow": null,
            "overflow_x": null,
            "overflow_y": null,
            "padding": "0px",
            "right": null,
            "top": null,
            "visibility": null,
            "width": "25px"
          }
        },
        "9a7433a017d3442f8d709564e1b735fa": {
          "model_module": "@jupyter-widgets/controls",
          "model_name": "ButtonStyleModel",
          "model_module_version": "1.5.0",
          "state": {
            "_model_module": "@jupyter-widgets/controls",
            "_model_module_version": "1.5.0",
            "_model_name": "ButtonStyleModel",
            "_view_count": null,
            "_view_module": "@jupyter-widgets/base",
            "_view_module_version": "1.2.0",
            "_view_name": "StyleView",
            "button_color": null,
            "font_weight": ""
          }
        }
      }
    }
  },
  "nbformat": 4,
  "nbformat_minor": 0
}